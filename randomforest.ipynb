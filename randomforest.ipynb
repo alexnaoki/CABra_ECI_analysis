{
 "cells": [
  {
   "cell_type": "markdown",
   "metadata": {},
   "source": [
    "## Importing libraries\n",
    "---------------"
   ]
  },
  {
   "cell_type": "code",
   "execution_count": 17,
   "metadata": {},
   "outputs": [],
   "source": [
    "import pandas as pd\n",
    "import pathlib\n",
    "import numpy as np\n",
    "import seaborn as sns\n",
    "import matplotlib.pyplot as plt\n",
    "\n",
    "from sklearn.ensemble import RandomForestRegressor\n",
    "from sklearn.ensemble import RandomForestClassifier\n",
    "from sklearn import preprocessing\n",
    "from sklearn.model_selection import cross_val_score\n",
    "from sklearn.model_selection import StratifiedKFold\n",
    "from sklearn.model_selection import KFold\n",
    "\n",
    "from functools import reduce"
   ]
  },
  {
   "cell_type": "markdown",
   "metadata": {},
   "source": [
    "## Reading Files\n",
    "---------------"
   ]
  },
  {
   "cell_type": "code",
   "execution_count": 18,
   "metadata": {},
   "outputs": [],
   "source": [
    "# Finding CABRa attributes csv files\n",
    "path_files = pathlib.Path('CABRa_attributes_csv/')\n",
    "cabra_attributes_files = path_files.rglob('*.csv')"
   ]
  },
  {
   "cell_type": "code",
   "execution_count": 19,
   "metadata": {},
   "outputs": [
    {
     "name": "stdout",
     "output_type": "stream",
     "text": [
      "CABRa_attributes_csv\\CABra_dataset _Additional_attributes.csv\n",
      "CABRa_attributes_csv\\CABra_dataset _Climate_attributes.csv\n",
      "CABRa_attributes_csv\\CABra_dataset_Groundwater_attributes.csv\n",
      "CABRa_attributes_csv\\CABra_dataset_Hydrologic_disturbance_attributes.csv\n",
      "CABRa_attributes_csv\\CABra_dataset_Land_cover_attributes.csv\n",
      "CABRa_attributes_csv\\CABra_dataset_Streamflow_attributes.csv\n",
      "CABRa_attributes_csv\\cabra_general_attributes.csv\n",
      "CABRa_attributes_csv\\cabra_Geology_attributes.csv\n",
      "CABRa_attributes_csv\\CABra_soil_attributes.csv\n",
      "CABRa_attributes_csv\\CABra_topography_attributes.csv\n"
     ]
    }
   ],
   "source": [
    "# Reading files\n",
    "dfs = []\n",
    "for file in cabra_attributes_files:\n",
    "    print(file)\n",
    "    df = pd.read_csv(file, engine='python', delimiter=';')\n",
    "    dfs.append(df)"
   ]
  },
  {
   "cell_type": "markdown",
   "metadata": {},
   "source": [
    "## Creating Dataset and calculating variables\n",
    "-----------------------"
   ]
  },
  {
   "cell_type": "code",
   "execution_count": 20,
   "metadata": {},
   "outputs": [],
   "source": [
    "# Merging DataFrames\n",
    "df_merged = reduce(lambda  left,right: pd.merge(left, right, on=['CABra ID', 'ANA ID'], how='outer'), dfs)"
   ]
  },
  {
   "cell_type": "code",
   "execution_count": 21,
   "metadata": {},
   "outputs": [
    {
     "data": {
      "text/html": [
       "<div>\n",
       "<style scoped>\n",
       "    .dataframe tbody tr th:only-of-type {\n",
       "        vertical-align: middle;\n",
       "    }\n",
       "\n",
       "    .dataframe tbody tr th {\n",
       "        vertical-align: top;\n",
       "    }\n",
       "\n",
       "    .dataframe thead th {\n",
       "        text-align: right;\n",
       "    }\n",
       "</style>\n",
       "<table border=\"1\" class=\"dataframe\">\n",
       "  <thead>\n",
       "    <tr style=\"text-align: right;\">\n",
       "      <th></th>\n",
       "      <th>CABra ID</th>\n",
       "      <th>ANA ID</th>\n",
       "      <th>longitude_centroid</th>\n",
       "      <th>latitude_centroid</th>\n",
       "      <th>dist_coast</th>\n",
       "      <th>clim_p</th>\n",
       "      <th>clim_tmin</th>\n",
       "      <th>clim_tmax</th>\n",
       "      <th>clim_rh</th>\n",
       "      <th>clim_wind</th>\n",
       "      <th>...</th>\n",
       "      <th>soil_carbon</th>\n",
       "      <th>soil_bulk</th>\n",
       "      <th>soil_depth</th>\n",
       "      <th>catch_area</th>\n",
       "      <th>elev_mean</th>\n",
       "      <th>elev_min</th>\n",
       "      <th>elev_max</th>\n",
       "      <th>elev_gauge</th>\n",
       "      <th>catch_slope</th>\n",
       "      <th>catch_order</th>\n",
       "    </tr>\n",
       "  </thead>\n",
       "  <tbody>\n",
       "    <tr>\n",
       "      <th>0</th>\n",
       "      <td>1</td>\n",
       "      <td>13880000</td>\n",
       "      <td>-68.028</td>\n",
       "      <td>-8.989</td>\n",
       "      <td>1407.55</td>\n",
       "      <td>5.64</td>\n",
       "      <td>21.61</td>\n",
       "      <td>30.48</td>\n",
       "      <td>83.17</td>\n",
       "      <td>0.82</td>\n",
       "      <td>...</td>\n",
       "      <td>34.439</td>\n",
       "      <td>25.456</td>\n",
       "      <td>1.335</td>\n",
       "      <td>243.410.279</td>\n",
       "      <td>178.97</td>\n",
       "      <td>44.65</td>\n",
       "      <td>564.03</td>\n",
       "      <td>44.65</td>\n",
       "      <td>3.14</td>\n",
       "      <td>7</td>\n",
       "    </tr>\n",
       "    <tr>\n",
       "      <th>1</th>\n",
       "      <td>2</td>\n",
       "      <td>14110000</td>\n",
       "      <td>-66.695</td>\n",
       "      <td>2.016</td>\n",
       "      <td>1009.09</td>\n",
       "      <td>8.88</td>\n",
       "      <td>21.83</td>\n",
       "      <td>28.60</td>\n",
       "      <td>86.41</td>\n",
       "      <td>0.42</td>\n",
       "      <td>...</td>\n",
       "      <td>21.926</td>\n",
       "      <td>17.609</td>\n",
       "      <td>1.256</td>\n",
       "      <td>76.898.617</td>\n",
       "      <td>222.97</td>\n",
       "      <td>80.40</td>\n",
       "      <td>2892.44</td>\n",
       "      <td>80.40</td>\n",
       "      <td>4.72</td>\n",
       "      <td>6</td>\n",
       "    </tr>\n",
       "    <tr>\n",
       "      <th>2</th>\n",
       "      <td>3</td>\n",
       "      <td>14230000</td>\n",
       "      <td>-68.936</td>\n",
       "      <td>1.573</td>\n",
       "      <td>1009.70</td>\n",
       "      <td>8.52</td>\n",
       "      <td>22.18</td>\n",
       "      <td>29.67</td>\n",
       "      <td>85.71</td>\n",
       "      <td>0.60</td>\n",
       "      <td>...</td>\n",
       "      <td>23.241</td>\n",
       "      <td>20.530</td>\n",
       "      <td>1.219</td>\n",
       "      <td>24.018.785</td>\n",
       "      <td>151.47</td>\n",
       "      <td>80.86</td>\n",
       "      <td>952.20</td>\n",
       "      <td>80.86</td>\n",
       "      <td>2.81</td>\n",
       "      <td>4</td>\n",
       "    </tr>\n",
       "    <tr>\n",
       "      <th>3</th>\n",
       "      <td>4</td>\n",
       "      <td>14250000</td>\n",
       "      <td>-67.305</td>\n",
       "      <td>1.734</td>\n",
       "      <td>1095.42</td>\n",
       "      <td>8.86</td>\n",
       "      <td>22.00</td>\n",
       "      <td>29.13</td>\n",
       "      <td>86.26</td>\n",
       "      <td>0.49</td>\n",
       "      <td>...</td>\n",
       "      <td>22.725</td>\n",
       "      <td>18.612</td>\n",
       "      <td>1.235</td>\n",
       "      <td>127.540.913</td>\n",
       "      <td>184.31</td>\n",
       "      <td>74.32</td>\n",
       "      <td>2892.44</td>\n",
       "      <td>74.32</td>\n",
       "      <td>3.71</td>\n",
       "      <td>6</td>\n",
       "    </tr>\n",
       "    <tr>\n",
       "      <th>4</th>\n",
       "      <td>5</td>\n",
       "      <td>14260000</td>\n",
       "      <td>-70.894</td>\n",
       "      <td>1.201</td>\n",
       "      <td>964.52</td>\n",
       "      <td>7.79</td>\n",
       "      <td>21.91</td>\n",
       "      <td>28.80</td>\n",
       "      <td>85.44</td>\n",
       "      <td>0.67</td>\n",
       "      <td>...</td>\n",
       "      <td>22.066</td>\n",
       "      <td>20.859</td>\n",
       "      <td>1.248</td>\n",
       "      <td>41.762.638</td>\n",
       "      <td>206.08</td>\n",
       "      <td>85.09</td>\n",
       "      <td>615.36</td>\n",
       "      <td>85.09</td>\n",
       "      <td>2.30</td>\n",
       "      <td>5</td>\n",
       "    </tr>\n",
       "  </tbody>\n",
       "</table>\n",
       "<p>5 rows × 90 columns</p>\n",
       "</div>"
      ],
      "text/plain": [
       "   CABra ID    ANA ID  longitude_centroid  latitude_centroid  dist_coast  \\\n",
       "0         1  13880000             -68.028             -8.989     1407.55   \n",
       "1         2  14110000             -66.695              2.016     1009.09   \n",
       "2         3  14230000             -68.936              1.573     1009.70   \n",
       "3         4  14250000             -67.305              1.734     1095.42   \n",
       "4         5  14260000             -70.894              1.201      964.52   \n",
       "\n",
       "   clim_p  clim_tmin  clim_tmax  clim_rh  clim_wind  ...  soil_carbon  \\\n",
       "0    5.64      21.61      30.48    83.17       0.82  ...       34.439   \n",
       "1    8.88      21.83      28.60    86.41       0.42  ...       21.926   \n",
       "2    8.52      22.18      29.67    85.71       0.60  ...       23.241   \n",
       "3    8.86      22.00      29.13    86.26       0.49  ...       22.725   \n",
       "4    7.79      21.91      28.80    85.44       0.67  ...       22.066   \n",
       "\n",
       "   soil_bulk  soil_depth   catch_area  elev_mean  elev_min elev_max  \\\n",
       "0     25.456       1.335  243.410.279     178.97     44.65   564.03   \n",
       "1     17.609       1.256   76.898.617     222.97     80.40  2892.44   \n",
       "2     20.530       1.219   24.018.785     151.47     80.86   952.20   \n",
       "3     18.612       1.235  127.540.913     184.31     74.32  2892.44   \n",
       "4     20.859       1.248   41.762.638     206.08     85.09   615.36   \n",
       "\n",
       "  elev_gauge  catch_slope  catch_order  \n",
       "0      44.65         3.14            7  \n",
       "1      80.40         4.72            6  \n",
       "2      80.86         2.81            4  \n",
       "3      74.32         3.71            6  \n",
       "4      85.09         2.30            5  \n",
       "\n",
       "[5 rows x 90 columns]"
      ]
     },
     "execution_count": 21,
     "metadata": {},
     "output_type": "execute_result"
    }
   ],
   "source": [
    "df_merged.head()"
   ]
  },
  {
   "cell_type": "code",
   "execution_count": 22,
   "metadata": {},
   "outputs": [
    {
     "data": {
      "text/plain": [
       "Index(['CABra ID', 'ANA ID', 'longitude_centroid', 'latitude_centroid',\n",
       "       'dist_coast', 'clim_p', 'clim_tmin', 'clim_tmax', 'clim_rh',\n",
       "       'clim_wind', 'clim_srad', 'clim_et', 'clim_pet', 'aridity_index',\n",
       "       'p_seasonality', 'clim_quality', 'aquif_name', 'aquif_type',\n",
       "       'catch_wtd', 'catch_hand', 'hand_class', 'dist_urban', 'cover_urban_x',\n",
       "       'cover_crops_x', 'res_number', 'res_area', 'res_volume',\n",
       "       'res_regulation', 'water_demand', 'hdisturb_index', 'cover_main',\n",
       "       'cover_bare', 'cover_forest', 'cover_crops_y', 'cover_grass',\n",
       "       'cover_moss', 'cover_shrub', 'cover_urban_y', 'cover_snow',\n",
       "       'cover_waterp', 'cover_waters', 'ndvi_djf', 'ndvi_mam', 'ndvi_jja',\n",
       "       'ndvi_son', 'q_mean', 'q_1', 'q_5', 'q_95', 'q_99', 'q_lf', 'q_ld',\n",
       "       'q_hf', 'q_hd', 'q_hfd', 'q_zero', 'q_cv', 'q_lcv', 'q_hcv',\n",
       "       'q_elasticity', 'fdc_slope', 'baseflow_index', 'runoff_coef',\n",
       "       'longitude', 'latitude', 'gauge_hreg', 'gauge_biome', 'gauge_state',\n",
       "       'missing_data', 'series_length', 'quality_index', 'catch_lith',\n",
       "       'sub_porosity', 'sub_permeability', 'sub_hconduc', 'soil_type',\n",
       "       'soil_textclass', 'soil_sand', 'soil_silt', 'soil_clay', 'soil_carbon',\n",
       "       'soil_bulk', 'soil_depth', 'catch_area', 'elev_mean', 'elev_min',\n",
       "       'elev_max', 'elev_gauge', 'catch_slope', 'catch_order'],\n",
       "      dtype='object')"
      ]
     },
     "execution_count": 22,
     "metadata": {},
     "output_type": "execute_result"
    }
   ],
   "source": [
    "# All CABRa attributes files\n",
    "df_merged.columns"
   ]
  },
  {
   "cell_type": "code",
   "execution_count": 23,
   "metadata": {},
   "outputs": [
    {
     "name": "stderr",
     "output_type": "stream",
     "text": [
      "C:\\Users\\User\\anaconda3\\envs\\Teste_ML\\lib\\site-packages\\pandas\\core\\series.py:726: RuntimeWarning: invalid value encountered in log10\n",
      "  result = getattr(ufunc, method)(*inputs, **kwargs)\n"
     ]
    }
   ],
   "source": [
    "# Calculating ECI (Liu et al. (2020))\n",
    "# Aparently there is a Warning\n",
    "df_merged['ECI'] = np.log10(df_merged['q_mean']/(df_merged['clim_p']-df_merged['clim_et']))"
   ]
  },
  {
   "cell_type": "code",
   "execution_count": 24,
   "metadata": {},
   "outputs": [
    {
     "data": {
      "text/html": [
       "<div>\n",
       "<style scoped>\n",
       "    .dataframe tbody tr th:only-of-type {\n",
       "        vertical-align: middle;\n",
       "    }\n",
       "\n",
       "    .dataframe tbody tr th {\n",
       "        vertical-align: top;\n",
       "    }\n",
       "\n",
       "    .dataframe thead th {\n",
       "        text-align: right;\n",
       "    }\n",
       "</style>\n",
       "<table border=\"1\" class=\"dataframe\">\n",
       "  <thead>\n",
       "    <tr style=\"text-align: right;\">\n",
       "      <th></th>\n",
       "      <th>ECI</th>\n",
       "      <th>q_mean</th>\n",
       "      <th>clim_p</th>\n",
       "      <th>clim_et</th>\n",
       "    </tr>\n",
       "  </thead>\n",
       "  <tbody>\n",
       "    <tr>\n",
       "      <th>686</th>\n",
       "      <td>NaN</td>\n",
       "      <td>0.03</td>\n",
       "      <td>1.64</td>\n",
       "      <td>1.66</td>\n",
       "    </tr>\n",
       "  </tbody>\n",
       "</table>\n",
       "</div>"
      ],
      "text/plain": [
       "     ECI  q_mean  clim_p  clim_et\n",
       "686  NaN    0.03    1.64     1.66"
      ]
     },
     "execution_count": 24,
     "metadata": {},
     "output_type": "execute_result"
    }
   ],
   "source": [
    "# There is one bad ID\n",
    "# log(0) => Erro\n",
    "df_merged.loc[df_merged['ECI'].isnull(),['ECI', 'q_mean', 'clim_p', 'clim_et']]"
   ]
  },
  {
   "cell_type": "code",
   "execution_count": 25,
   "metadata": {},
   "outputs": [],
   "source": [
    "# Calculating the ratio Effective Area / Topographic Area (Liu et al. (2020))\n",
    "df_merged['Aeff/Atopo'] = df_merged['q_mean']/(df_merged['clim_p']-df_merged['clim_et'])"
   ]
  },
  {
   "cell_type": "code",
   "execution_count": 26,
   "metadata": {},
   "outputs": [
    {
     "data": {
      "text/html": [
       "<div>\n",
       "<style scoped>\n",
       "    .dataframe tbody tr th:only-of-type {\n",
       "        vertical-align: middle;\n",
       "    }\n",
       "\n",
       "    .dataframe tbody tr th {\n",
       "        vertical-align: top;\n",
       "    }\n",
       "\n",
       "    .dataframe thead th {\n",
       "        text-align: right;\n",
       "    }\n",
       "</style>\n",
       "<table border=\"1\" class=\"dataframe\">\n",
       "  <thead>\n",
       "    <tr style=\"text-align: right;\">\n",
       "      <th></th>\n",
       "      <th>Aeff/Atopo</th>\n",
       "      <th>ECI</th>\n",
       "    </tr>\n",
       "  </thead>\n",
       "  <tbody>\n",
       "    <tr>\n",
       "      <th>count</th>\n",
       "      <td>735.000000</td>\n",
       "      <td>734.000000</td>\n",
       "    </tr>\n",
       "    <tr>\n",
       "      <th>mean</th>\n",
       "      <td>1.033062</td>\n",
       "      <td>-0.024864</td>\n",
       "    </tr>\n",
       "    <tr>\n",
       "      <th>std</th>\n",
       "      <td>0.472764</td>\n",
       "      <td>0.200450</td>\n",
       "    </tr>\n",
       "    <tr>\n",
       "      <th>min</th>\n",
       "      <td>-1.500000</td>\n",
       "      <td>-0.989005</td>\n",
       "    </tr>\n",
       "    <tr>\n",
       "      <th>25%</th>\n",
       "      <td>0.812509</td>\n",
       "      <td>-0.089254</td>\n",
       "    </tr>\n",
       "    <tr>\n",
       "      <th>50%</th>\n",
       "      <td>1.006250</td>\n",
       "      <td>0.002825</td>\n",
       "    </tr>\n",
       "    <tr>\n",
       "      <th>75%</th>\n",
       "      <td>1.196199</td>\n",
       "      <td>0.077825</td>\n",
       "    </tr>\n",
       "    <tr>\n",
       "      <th>max</th>\n",
       "      <td>6.781955</td>\n",
       "      <td>0.831355</td>\n",
       "    </tr>\n",
       "  </tbody>\n",
       "</table>\n",
       "</div>"
      ],
      "text/plain": [
       "       Aeff/Atopo         ECI\n",
       "count  735.000000  734.000000\n",
       "mean     1.033062   -0.024864\n",
       "std      0.472764    0.200450\n",
       "min     -1.500000   -0.989005\n",
       "25%      0.812509   -0.089254\n",
       "50%      1.006250    0.002825\n",
       "75%      1.196199    0.077825\n",
       "max      6.781955    0.831355"
      ]
     },
     "execution_count": 26,
     "metadata": {},
     "output_type": "execute_result"
    }
   ],
   "source": [
    "# Checking ECI and Ratio\n",
    "df_merged[['Aeff/Atopo','ECI']].describe()"
   ]
  },
  {
   "cell_type": "code",
   "execution_count": 27,
   "metadata": {},
   "outputs": [],
   "source": [
    "# Creating new column called 'substantial' and grouping into 3 groups\n",
    "# The ratio is according to Liu et al. (2020)\n",
    "max_ratio = 2\n",
    "min_ratio = 0.5\n",
    "\n",
    "df_merged.loc[df_merged['Aeff/Atopo']>=max_ratio, 'substantial'] = 'Gaining'\n",
    "df_merged.loc[(df_merged['Aeff/Atopo']<max_ratio)&\n",
    "              (df_merged['Aeff/Atopo']>1), 'substantial'] = 'na'\n",
    "df_merged.loc[(df_merged['Aeff/Atopo']>min_ratio)&\n",
    "              (df_merged['Aeff/Atopo']<=1), 'substantial'] = 'na'\n",
    "df_merged.loc[df_merged['Aeff/Atopo']<=min_ratio, 'substantial'] = 'Losing'"
   ]
  },
  {
   "cell_type": "code",
   "execution_count": 28,
   "metadata": {},
   "outputs": [],
   "source": [
    "# Intervals using ECI values\n",
    "max_ratio_eci = 0.113943\n",
    "min_ratio_eci = -0.1549\n",
    "df_merged.loc[df_merged['ECI']>= max_ratio_eci,'substantial_eci'] = 'Gaining'\n",
    "df_merged.loc[(df_merged['ECI']<max_ratio_eci)&\n",
    "              (df_merged['ECI']>0), 'substantial_eci'] = 'Small gain'\n",
    "df_merged.loc[(df_merged['ECI']>min_ratio_eci)&\n",
    "              (df_merged['ECI']<=0), 'substantial_eci'] = 'Small loss'\n",
    "df_merged.loc[df_merged['ECI']<=min_ratio_eci, 'substantial_eci'] = 'Losing'"
   ]
  },
  {
   "cell_type": "code",
   "execution_count": 29,
   "metadata": {},
   "outputs": [],
   "source": [
    "# The column 'catch_area' is problematic, because it was a object type.\n",
    "# Changed to 'int'\n",
    "df_merged['catch_area'] = df_merged['catch_area'].str.replace('.','')\n",
    "df_merged['catch_area'] = df_merged['catch_area'].astype('int64')\n",
    "df_merged['catch_area'] = df_merged['catch_area']/1000"
   ]
  },
  {
   "cell_type": "code",
   "execution_count": 30,
   "metadata": {},
   "outputs": [],
   "source": [
    "# Label encoding function for non-numerical data\n",
    "def label_enconding(df, variable):\n",
    "    le = preprocessing.LabelEncoder()\n",
    "    df[f'le_{variable}'] = le.fit_transform(df[f'{variable}'])\n",
    "    for i, c in zip(le.fit_transform(le.classes_), le.classes_):\n",
    "#     print(le.fit_transform(le.classes_), le.classes_)\n",
    "        print(i, c)"
   ]
  },
  {
   "cell_type": "code",
   "execution_count": 31,
   "metadata": {},
   "outputs": [
    {
     "name": "stdout",
     "output_type": "stream",
     "text": [
      "0                 Pampa\n",
      "1                Amazon\n",
      "2               Cerrado\n",
      "3              Caatinga\n",
      "4              Pantanal\n",
      "5       Atlantic forest\n"
     ]
    }
   ],
   "source": [
    "label_enconding(df=df_merged, variable='gauge_biome')"
   ]
  },
  {
   "cell_type": "code",
   "execution_count": 32,
   "metadata": {},
   "outputs": [
    {
     "name": "stdout",
     "output_type": "stream",
     "text": [
      "0             Clay\n",
      "1             Loam\n",
      "2        Clay loam\n",
      "3       Sandy clay\n",
      "4       Sandy loam\n",
      "5  Sandy clay loam\n"
     ]
    }
   ],
   "source": [
    "label_enconding(df=df_merged, variable='soil_textclass')"
   ]
  },
  {
   "cell_type": "code",
   "execution_count": 33,
   "metadata": {},
   "outputs": [],
   "source": [
    "# One hot encoding function for non-numerical data\n",
    "def onehot_enconding(df, variable):\n",
    "    oe = preprocessing.OneHotEncoder()\n",
    "    fit_oe = oe.fit_transform(df_merged[[variable]]).toarray()\n",
    "    oe_list = [f'{variable}_{categorie}' for categorie in oe.categories_[0]]\n",
    "    df[oe_list] = fit_oe"
   ]
  },
  {
   "cell_type": "code",
   "execution_count": 34,
   "metadata": {},
   "outputs": [],
   "source": [
    "onehot_enconding(df=df_merged, variable='gauge_biome')"
   ]
  },
  {
   "cell_type": "code",
   "execution_count": 35,
   "metadata": {},
   "outputs": [],
   "source": [
    "onehot_enconding(df=df_merged, variable='soil_textclass')"
   ]
  },
  {
   "cell_type": "code",
   "execution_count": 36,
   "metadata": {},
   "outputs": [],
   "source": [
    "# List of relevant variables (PCA analysis)\n",
    "variables = ['aridity_index', \n",
    "             'catch_slope',\n",
    "             'elev_mean', \n",
    "             'res_area',\n",
    "             'catch_hand',\n",
    "             'catch_wtd',\n",
    "             'sub_permeability',\n",
    "             'sub_hconduc',\n",
    "             'hdisturb_index', \n",
    "             'sub_porosity',\n",
    "             'q_elasticity',\n",
    "             'p_seasonality']"
   ]
  },
  {
   "cell_type": "markdown",
   "metadata": {},
   "source": [
    "## Random Forest Analysis\n",
    "----------------"
   ]
  },
  {
   "cell_type": "code",
   "execution_count": 37,
   "metadata": {},
   "outputs": [],
   "source": [
    "# We need to drop NaN values before performing Random Forest\n",
    "df_merged.dropna(subset=variables+['ECI'], inplace=True)"
   ]
  },
  {
   "cell_type": "code",
   "execution_count": 38,
   "metadata": {},
   "outputs": [
    {
     "data": {
      "text/html": [
       "<div>\n",
       "<style scoped>\n",
       "    .dataframe tbody tr th:only-of-type {\n",
       "        vertical-align: middle;\n",
       "    }\n",
       "\n",
       "    .dataframe tbody tr th {\n",
       "        vertical-align: top;\n",
       "    }\n",
       "\n",
       "    .dataframe thead th {\n",
       "        text-align: right;\n",
       "    }\n",
       "</style>\n",
       "<table border=\"1\" class=\"dataframe\">\n",
       "  <thead>\n",
       "    <tr style=\"text-align: right;\">\n",
       "      <th></th>\n",
       "      <th>aridity_index</th>\n",
       "      <th>catch_slope</th>\n",
       "      <th>elev_mean</th>\n",
       "      <th>res_area</th>\n",
       "      <th>catch_hand</th>\n",
       "      <th>catch_wtd</th>\n",
       "      <th>sub_permeability</th>\n",
       "      <th>sub_hconduc</th>\n",
       "      <th>hdisturb_index</th>\n",
       "      <th>sub_porosity</th>\n",
       "      <th>q_elasticity</th>\n",
       "      <th>p_seasonality</th>\n",
       "    </tr>\n",
       "  </thead>\n",
       "  <tbody>\n",
       "    <tr>\n",
       "      <th>0</th>\n",
       "      <td>0.89</td>\n",
       "      <td>3.14</td>\n",
       "      <td>178.97</td>\n",
       "      <td>0.0</td>\n",
       "      <td>18.104</td>\n",
       "      <td>-10.446</td>\n",
       "      <td>-14.306</td>\n",
       "      <td>-7.306</td>\n",
       "      <td>0.0</td>\n",
       "      <td>0.192</td>\n",
       "      <td>0.36</td>\n",
       "      <td>0.46</td>\n",
       "    </tr>\n",
       "    <tr>\n",
       "      <th>1</th>\n",
       "      <td>0.56</td>\n",
       "      <td>4.72</td>\n",
       "      <td>222.97</td>\n",
       "      <td>0.0</td>\n",
       "      <td>38.006</td>\n",
       "      <td>-8.306</td>\n",
       "      <td>-13.883</td>\n",
       "      <td>-6.883</td>\n",
       "      <td>0.0</td>\n",
       "      <td>0.055</td>\n",
       "      <td>0.97</td>\n",
       "      <td>-0.28</td>\n",
       "    </tr>\n",
       "    <tr>\n",
       "      <th>2</th>\n",
       "      <td>0.56</td>\n",
       "      <td>2.81</td>\n",
       "      <td>151.47</td>\n",
       "      <td>0.0</td>\n",
       "      <td>16.199</td>\n",
       "      <td>-2.846</td>\n",
       "      <td>-13.413</td>\n",
       "      <td>-6.413</td>\n",
       "      <td>0.0</td>\n",
       "      <td>0.070</td>\n",
       "      <td>1.08</td>\n",
       "      <td>-0.27</td>\n",
       "    </tr>\n",
       "    <tr>\n",
       "      <th>3</th>\n",
       "      <td>0.55</td>\n",
       "      <td>3.71</td>\n",
       "      <td>184.31</td>\n",
       "      <td>0.0</td>\n",
       "      <td>28.372</td>\n",
       "      <td>-6.016</td>\n",
       "      <td>-13.679</td>\n",
       "      <td>-6.679</td>\n",
       "      <td>0.0</td>\n",
       "      <td>0.064</td>\n",
       "      <td>0.89</td>\n",
       "      <td>-0.26</td>\n",
       "    </tr>\n",
       "    <tr>\n",
       "      <th>4</th>\n",
       "      <td>0.63</td>\n",
       "      <td>2.30</td>\n",
       "      <td>206.08</td>\n",
       "      <td>0.0</td>\n",
       "      <td>18.239</td>\n",
       "      <td>-4.131</td>\n",
       "      <td>-14.073</td>\n",
       "      <td>-7.073</td>\n",
       "      <td>0.0</td>\n",
       "      <td>0.129</td>\n",
       "      <td>0.55</td>\n",
       "      <td>-0.27</td>\n",
       "    </tr>\n",
       "  </tbody>\n",
       "</table>\n",
       "</div>"
      ],
      "text/plain": [
       "   aridity_index  catch_slope  elev_mean  res_area  catch_hand  catch_wtd  \\\n",
       "0           0.89         3.14     178.97       0.0      18.104    -10.446   \n",
       "1           0.56         4.72     222.97       0.0      38.006     -8.306   \n",
       "2           0.56         2.81     151.47       0.0      16.199     -2.846   \n",
       "3           0.55         3.71     184.31       0.0      28.372     -6.016   \n",
       "4           0.63         2.30     206.08       0.0      18.239     -4.131   \n",
       "\n",
       "   sub_permeability  sub_hconduc  hdisturb_index  sub_porosity  q_elasticity  \\\n",
       "0           -14.306       -7.306             0.0         0.192          0.36   \n",
       "1           -13.883       -6.883             0.0         0.055          0.97   \n",
       "2           -13.413       -6.413             0.0         0.070          1.08   \n",
       "3           -13.679       -6.679             0.0         0.064          0.89   \n",
       "4           -14.073       -7.073             0.0         0.129          0.55   \n",
       "\n",
       "   p_seasonality  \n",
       "0           0.46  \n",
       "1          -0.28  \n",
       "2          -0.27  \n",
       "3          -0.26  \n",
       "4          -0.27  "
      ]
     },
     "execution_count": 38,
     "metadata": {},
     "output_type": "execute_result"
    }
   ],
   "source": [
    "df_merged[variables].head()"
   ]
  },
  {
   "cell_type": "markdown",
   "metadata": {},
   "source": [
    "#### Without encoding variables"
   ]
  },
  {
   "cell_type": "code",
   "execution_count": 63,
   "metadata": {},
   "outputs": [
    {
     "data": {
      "text/plain": [
       "RandomForestClassifier(bootstrap=True, ccp_alpha=0.0, class_weight=None,\n",
       "                       criterion='gini', max_depth=None, max_features='auto',\n",
       "                       max_leaf_nodes=None, max_samples=None,\n",
       "                       min_impurity_decrease=0.0, min_impurity_split=None,\n",
       "                       min_samples_leaf=1, min_samples_split=2,\n",
       "                       min_weight_fraction_leaf=0.0, n_estimators=100,\n",
       "                       n_jobs=None, oob_score=False, random_state=2, verbose=0,\n",
       "                       warm_start=False)"
      ]
     },
     "execution_count": 63,
     "metadata": {},
     "output_type": "execute_result"
    }
   ],
   "source": [
    "# Random Forest Classifier\n",
    "# X: list of variables\n",
    "# y: 'substantial' column\n",
    "rfc = RandomForestClassifier(random_state=2)\n",
    "rfc.fit(X=df_merged[variables], y=df_merged['substantial_eci'])"
   ]
  },
  {
   "cell_type": "code",
   "execution_count": 66,
   "metadata": {},
   "outputs": [
    {
     "data": {
      "text/plain": [
       "RandomForestRegressor(bootstrap=True, ccp_alpha=0.0, criterion='mse',\n",
       "                      max_depth=None, max_features='auto', max_leaf_nodes=None,\n",
       "                      max_samples=None, min_impurity_decrease=0.0,\n",
       "                      min_impurity_split=None, min_samples_leaf=1,\n",
       "                      min_samples_split=2, min_weight_fraction_leaf=0.0,\n",
       "                      n_estimators=100, n_jobs=None, oob_score=False,\n",
       "                      random_state=2, verbose=0, warm_start=False)"
      ]
     },
     "execution_count": 66,
     "metadata": {},
     "output_type": "execute_result"
    }
   ],
   "source": [
    "rfr = RandomForestRegressor(random_state=2)\n",
    "rfr.fit(X=df_merged[variables], y=df_merged['ECI'])"
   ]
  },
  {
   "cell_type": "code",
   "execution_count": 69,
   "metadata": {},
   "outputs": [
    {
     "name": "stdout",
     "output_type": "stream",
     "text": [
      "aridity_index\t: RFC: 0.156  |\t RFR: 0.388\n",
      "catch_slope\t: RFC: 0.111  |\t RFR: 0.147\n",
      "elev_mean\t: RFC: 0.088  |\t RFR: 0.073\n",
      "res_area\t: RFC: 0.061  |\t RFR: 0.026\n",
      "catch_hand\t: RFC: 0.104  |\t RFR: 0.066\n",
      "catch_wtd\t: RFC: 0.091  |\t RFR: 0.074\n",
      "sub_permeability\t: RFC: 0.056  |\t RFR: 0.016\n",
      "sub_hconduc\t: RFC: 0.055  |\t RFR: 0.016\n",
      "hdisturb_index\t: RFC: 0.070  |\t RFR: 0.045\n",
      "sub_porosity\t: RFC: 0.060  |\t RFR: 0.034\n",
      "q_elasticity\t: RFC: 0.072  |\t RFR: 0.035\n",
      "p_seasonality\t: RFC: 0.076  |\t RFR: 0.080\n"
     ]
    }
   ],
   "source": [
    "# Checking zipped results\n",
    "for i, c,r in zip(variables, rfc.feature_importances_,rfr.feature_importances_):\n",
    "    print(f'{i}\\t: RFC: {c:.3f}  |\\t RFR: {r:.3f}')"
   ]
  },
  {
   "cell_type": "markdown",
   "metadata": {},
   "source": [
    "#### With label encoding"
   ]
  },
  {
   "cell_type": "code",
   "execution_count": 44,
   "metadata": {},
   "outputs": [
    {
     "data": {
      "text/plain": [
       "RandomForestRegressor(bootstrap=True, ccp_alpha=0.0, criterion='mse',\n",
       "                      max_depth=None, max_features='auto', max_leaf_nodes=None,\n",
       "                      max_samples=None, min_impurity_decrease=0.0,\n",
       "                      min_impurity_split=None, min_samples_leaf=1,\n",
       "                      min_samples_split=2, min_weight_fraction_leaf=0.0,\n",
       "                      n_estimators=100, n_jobs=None, oob_score=False,\n",
       "                      random_state=2, verbose=0, warm_start=False)"
      ]
     },
     "execution_count": 44,
     "metadata": {},
     "output_type": "execute_result"
    }
   ],
   "source": [
    "rfr2 = RandomForestRegressor(random_state=2)\n",
    "rfr2.fit(X=df_merged[variables+['le_gauge_biome','le_soil_textclass']], y=df_merged['ECI'])"
   ]
  },
  {
   "cell_type": "code",
   "execution_count": 71,
   "metadata": {},
   "outputs": [
    {
     "data": {
      "text/plain": [
       "RandomForestClassifier(bootstrap=True, ccp_alpha=0.0, class_weight=None,\n",
       "                       criterion='gini', max_depth=None, max_features='auto',\n",
       "                       max_leaf_nodes=None, max_samples=None,\n",
       "                       min_impurity_decrease=0.0, min_impurity_split=None,\n",
       "                       min_samples_leaf=1, min_samples_split=2,\n",
       "                       min_weight_fraction_leaf=0.0, n_estimators=100,\n",
       "                       n_jobs=None, oob_score=False, random_state=2, verbose=0,\n",
       "                       warm_start=False)"
      ]
     },
     "execution_count": 71,
     "metadata": {},
     "output_type": "execute_result"
    }
   ],
   "source": [
    "rfc_02 = RandomForestClassifier(random_state=2)\n",
    "rfc_02.fit(X=df_merged[variables+['le_gauge_biome', 'le_soil_textclass']], y=df_merged['substantial_eci'])"
   ]
  },
  {
   "cell_type": "code",
   "execution_count": 72,
   "metadata": {},
   "outputs": [
    {
     "name": "stdout",
     "output_type": "stream",
     "text": [
      "aridity_index\t: RFC: 0.134|\t RFR: 0.384\n",
      "catch_slope\t: RFC: 0.100|\t RFR: 0.143\n",
      "elev_mean\t: RFC: 0.081|\t RFR: 0.071\n",
      "res_area\t: RFC: 0.061|\t RFR: 0.024\n",
      "catch_hand\t: RFC: 0.099|\t RFR: 0.065\n",
      "catch_wtd\t: RFC: 0.087|\t RFR: 0.070\n",
      "sub_permeability\t: RFC: 0.052|\t RFR: 0.015\n",
      "sub_hconduc\t: RFC: 0.054|\t RFR: 0.017\n",
      "hdisturb_index\t: RFC: 0.069|\t RFR: 0.045\n",
      "sub_porosity\t: RFC: 0.057|\t RFR: 0.033\n",
      "q_elasticity\t: RFC: 0.068|\t RFR: 0.034\n",
      "p_seasonality\t: RFC: 0.077|\t RFR: 0.077\n",
      "le_gauge_biome\t: RFC: 0.037|\t RFR: 0.011\n",
      "le_soil_textclass\t: RFC: 0.024|\t RFR: 0.009\n"
     ]
    }
   ],
   "source": [
    "# Checking zipped results\n",
    "for i, c, r in zip(variables+['le_gauge_biome','le_soil_textclass'], rfc_02.feature_importances_, rfr2.feature_importances_):\n",
    "    print(f'{i}\\t: RFC: {c:.3f}|\\t RFR: {r:.3f}')"
   ]
  },
  {
   "cell_type": "markdown",
   "metadata": {},
   "source": [
    "#### With one hot encoding"
   ]
  },
  {
   "cell_type": "code",
   "execution_count": 49,
   "metadata": {},
   "outputs": [],
   "source": [
    "oe_biome_list = ['gauge_biome_                Pampa', 'gauge_biome_               Amazon', 'gauge_biome_              Cerrado', 'gauge_biome_             Caatinga', 'gauge_biome_             Pantanal', 'gauge_biome_      Atlantic forest']\n",
    "oe_soil_list = ['soil_textclass_            Clay', 'soil_textclass_            Loam', 'soil_textclass_       Clay loam', 'soil_textclass_      Sandy clay', 'soil_textclass_      Sandy loam', 'soil_textclass_ Sandy clay loam']\n",
    "\n",
    "oe_list = oe_biome_list #+ oe_soil_list"
   ]
  },
  {
   "cell_type": "code",
   "execution_count": 50,
   "metadata": {},
   "outputs": [
    {
     "data": {
      "text/plain": [
       "RandomForestClassifier(bootstrap=True, ccp_alpha=0.0, class_weight=None,\n",
       "                       criterion='gini', max_depth=None, max_features='auto',\n",
       "                       max_leaf_nodes=None, max_samples=None,\n",
       "                       min_impurity_decrease=0.0, min_impurity_split=None,\n",
       "                       min_samples_leaf=1, min_samples_split=2,\n",
       "                       min_weight_fraction_leaf=0.0, n_estimators=100,\n",
       "                       n_jobs=None, oob_score=False, random_state=2, verbose=0,\n",
       "                       warm_start=False)"
      ]
     },
     "execution_count": 50,
     "metadata": {},
     "output_type": "execute_result"
    }
   ],
   "source": [
    "rfc_03 = RandomForestClassifier(random_state=2)\n",
    "rfc_03.fit(X=df_merged[variables+oe_list], y=df_merged['substantial'])"
   ]
  },
  {
   "cell_type": "code",
   "execution_count": 53,
   "metadata": {},
   "outputs": [
    {
     "data": {
      "text/plain": [
       "RandomForestRegressor(bootstrap=True, ccp_alpha=0.0, criterion='mse',\n",
       "                      max_depth=None, max_features='auto', max_leaf_nodes=None,\n",
       "                      max_samples=None, min_impurity_decrease=0.0,\n",
       "                      min_impurity_split=None, min_samples_leaf=1,\n",
       "                      min_samples_split=2, min_weight_fraction_leaf=0.0,\n",
       "                      n_estimators=100, n_jobs=None, oob_score=False,\n",
       "                      random_state=2, verbose=0, warm_start=False)"
      ]
     },
     "execution_count": 53,
     "metadata": {},
     "output_type": "execute_result"
    }
   ],
   "source": [
    "rfr3 = RandomForestRegressor(random_state=2)\n",
    "rfr3.fit(X=df_merged[variables+oe_list], y=df_merged['ECI'])"
   ]
  },
  {
   "cell_type": "code",
   "execution_count": 74,
   "metadata": {},
   "outputs": [
    {
     "name": "stdout",
     "output_type": "stream",
     "text": [
      "aridity_index\t: RFC: 0.190 |\t RFR: 0.382\n",
      "catch_slope\t: RFC: 0.087 |\t RFR: 0.144\n",
      "elev_mean\t: RFC: 0.085 |\t RFR: 0.072\n",
      "res_area\t: RFC: 0.040 |\t RFR: 0.025\n",
      "catch_hand\t: RFC: 0.064 |\t RFR: 0.064\n",
      "catch_wtd\t: RFC: 0.094 |\t RFR: 0.071\n",
      "sub_permeability\t: RFC: 0.050 |\t RFR: 0.018\n",
      "sub_hconduc\t: RFC: 0.044 |\t RFR: 0.016\n",
      "hdisturb_index\t: RFC: 0.036 |\t RFR: 0.045\n",
      "sub_porosity\t: RFC: 0.052 |\t RFR: 0.033\n",
      "q_elasticity\t: RFC: 0.098 |\t RFR: 0.035\n",
      "p_seasonality\t: RFC: 0.093 |\t RFR: 0.081\n",
      "gauge_biome_                Pampa\t: RFC: 0.001 |\t RFR: 0.000\n",
      "gauge_biome_               Amazon\t: RFC: 0.007 |\t RFR: 0.003\n",
      "gauge_biome_              Cerrado\t: RFC: 0.005 |\t RFR: 0.001\n",
      "gauge_biome_             Caatinga\t: RFC: 0.043 |\t RFR: 0.004\n",
      "gauge_biome_             Pantanal\t: RFC: 0.006 |\t RFR: 0.000\n",
      "gauge_biome_      Atlantic forest\t: RFC: 0.006 |\t RFR: 0.007\n"
     ]
    }
   ],
   "source": [
    "# Checking zipped results\n",
    "for i, c, r in zip(variables+oe_list, rfc_03.feature_importances_, rfr3.feature_importances_):\n",
    "    print(f'{i}\\t: RFC: {c:.3f} |\\t RFR: {r:.3f}')"
   ]
  },
  {
   "cell_type": "markdown",
   "metadata": {},
   "source": [
    "## 10-fold Cross validation\n",
    "---------------------"
   ]
  },
  {
   "cell_type": "code",
   "execution_count": 75,
   "metadata": {},
   "outputs": [],
   "source": [
    "# We need to drop NaN values before performing Random Forest\n",
    "df_merged.dropna(subset=variables+['ECI'], inplace=True)\n",
    "df_merged.reset_index(inplace=True)"
   ]
  },
  {
   "cell_type": "code",
   "execution_count": 76,
   "metadata": {},
   "outputs": [],
   "source": [
    "# cv = StratifiedKFold(n_splits=15, random_state=2, shuffle=True)\n",
    "group_kfold = KFold(n_splits=10)"
   ]
  },
  {
   "cell_type": "code",
   "execution_count": 77,
   "metadata": {},
   "outputs": [],
   "source": [
    "df_importance = pd.DataFrame()\n",
    "for i,(a,b) in enumerate(group_kfold.split(X=df_merged[variables+oe_list], y=df_merged['substantial_eci'])):\n",
    "    rfc = RandomForestClassifier(n_estimators=100)\n",
    "    rfc.fit(X=df_merged.loc[a, variables+oe_list], y=df_merged.loc[a, 'substantial_eci'])\n",
    "#     print(rfc.feature_importances_)\n",
    "    df_importance.loc[i, variables+oe_list] = rfc.feature_importances_"
   ]
  },
  {
   "cell_type": "code",
   "execution_count": 78,
   "metadata": {},
   "outputs": [
    {
     "data": {
      "text/plain": [
       "<matplotlib.axes._subplots.AxesSubplot at 0x1d3bdd57288>"
      ]
     },
     "execution_count": 78,
     "metadata": {},
     "output_type": "execute_result"
    },
    {
     "data": {
      "image/png": "[encoded data removed]",
      "text/plain": [
       "<Figure size 864x576 with 1 Axes>"
      ]
     },
     "metadata": {
      "needs_background": "light"
     },
     "output_type": "display_data"
    }
   ],
   "source": [
    "df_importance.plot(figsize=(12,8))"
   ]
  },
  {
   "cell_type": "code",
   "execution_count": 80,
   "metadata": {},
   "outputs": [],
   "source": [
    "df_importance2 = pd.DataFrame()\n",
    "for i,(a,b) in enumerate(group_kfold.split(X=df_merged[variables+oe_list], y=df_merged['ECI'])):\n",
    "    rfc = RandomForestRegressor(n_estimators=100)\n",
    "    rfc.fit(X=df_merged.loc[a, variables+oe_list], y=df_merged.loc[a, 'ECI'])\n",
    "#     print(rfc.feature_importances_)\n",
    "    \n",
    "    df_importance2.loc[i, variables+oe_list] = rfc.feature_importances_\n"
   ]
  },
  {
   "cell_type": "code",
   "execution_count": 81,
   "metadata": {},
   "outputs": [
    {
     "data": {
      "text/plain": [
       "<matplotlib.axes._subplots.AxesSubplot at 0x1d3bdd24908>"
      ]
     },
     "execution_count": 81,
     "metadata": {},
     "output_type": "execute_result"
    },
    {
     "data": {
      "image/png": "[encoded data removed]",
      "text/plain": [
       "<Figure size 864x576 with 1 Axes>"
      ]
     },
     "metadata": {
      "needs_background": "light"
     },
     "output_type": "display_data"
    }
   ],
   "source": [
    "df_importance2.plot(figsize=(12,8))"
   ]
  }
 ],
 "metadata": {
  "kernelspec": {
   "display_name": "Teste_ML",
   "language": "python",
   "name": "teste_ml"
  },
  "language_info": {
   "codemirror_mode": {
    "name": "ipython",
    "version": 3
   },
   "file_extension": ".py",
   "mimetype": "text/x-python",
   "name": "python",
   "nbconvert_exporter": "python",
   "pygments_lexer": "ipython3",
   "version": "3.7.7"
  }
 },
 "nbformat": 4,
 "nbformat_minor": 4
}
