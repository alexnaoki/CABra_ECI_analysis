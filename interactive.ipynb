{
 "cells": [
  {
   "cell_type": "code",
   "execution_count": 54,
   "metadata": {},
   "outputs": [],
   "source": [
    "import ipywidgets\n",
    "from ipywidgets import interact, FloatSlider"
   ]
  },
  {
   "cell_type": "code",
   "execution_count": 55,
   "metadata": {},
   "outputs": [],
   "source": [
    "import pandas as pd\n",
    "import pathlib\n",
    "import numpy as np\n",
    "import seaborn as sns\n",
    "import matplotlib.pyplot as plt\n",
    "\n",
    "from sklearn.ensemble import RandomForestRegressor\n",
    "from sklearn.ensemble import RandomForestClassifier\n",
    "\n",
    "import geopandas as gpd\n",
    "\n",
    "from functools import reduce"
   ]
  },
  {
   "cell_type": "markdown",
   "metadata": {},
   "source": [
    "## Reading Files\n",
    "---------------"
   ]
  },
  {
   "cell_type": "code",
   "execution_count": 56,
   "metadata": {},
   "outputs": [],
   "source": [
    "# Finding CABRa attributes csv files\n",
    "path_files = pathlib.Path('CABRa_attributes_csv/')\n",
    "cabra_attributes_files = path_files.rglob('*.csv')"
   ]
  },
  {
   "cell_type": "code",
   "execution_count": 57,
   "metadata": {},
   "outputs": [
    {
     "name": "stdout",
     "output_type": "stream",
     "text": [
      "CABRa_attributes_csv\\CABra_dataset _Additional_attributes.csv\n",
      "CABRa_attributes_csv\\CABra_dataset _Climate_attributes.csv\n",
      "CABRa_attributes_csv\\CABra_dataset_Groundwater_attributes.csv\n",
      "CABRa_attributes_csv\\CABra_dataset_Hydrologic_disturbance_attributes.csv\n",
      "CABRa_attributes_csv\\CABra_dataset_Land_cover_attributes.csv\n",
      "CABRa_attributes_csv\\CABra_dataset_Streamflow_attributes.csv\n",
      "CABRa_attributes_csv\\cabra_general_attributes.csv\n",
      "CABRa_attributes_csv\\cabra_Geology_attributes.csv\n",
      "CABRa_attributes_csv\\CABra_soil_attributes.csv\n",
      "CABRa_attributes_csv\\CABra_topography_attributes.csv\n"
     ]
    }
   ],
   "source": [
    "# Reading files\n",
    "dfs = []\n",
    "for file in cabra_attributes_files:\n",
    "    print(file)\n",
    "    df = pd.read_csv(file, engine='python', delimiter=';')\n",
    "    dfs.append(df)"
   ]
  },
  {
   "cell_type": "markdown",
   "metadata": {},
   "source": [
    "## Creating Dataset and calculating variables\n",
    "-----------------------"
   ]
  },
  {
   "cell_type": "code",
   "execution_count": 58,
   "metadata": {},
   "outputs": [],
   "source": [
    "# Merging DataFrames\n",
    "df_merged = reduce(lambda  left,right: pd.merge(left, right, on=['CABra ID', 'ANA ID'], how='outer'), dfs)"
   ]
  },
  {
   "cell_type": "code",
   "execution_count": 59,
   "metadata": {},
   "outputs": [
    {
     "data": {
      "text/html": [
       "<div>\n",
       "<style scoped>\n",
       "    .dataframe tbody tr th:only-of-type {\n",
       "        vertical-align: middle;\n",
       "    }\n",
       "\n",
       "    .dataframe tbody tr th {\n",
       "        vertical-align: top;\n",
       "    }\n",
       "\n",
       "    .dataframe thead th {\n",
       "        text-align: right;\n",
       "    }\n",
       "</style>\n",
       "<table border=\"1\" class=\"dataframe\">\n",
       "  <thead>\n",
       "    <tr style=\"text-align: right;\">\n",
       "      <th></th>\n",
       "      <th>CABra ID</th>\n",
       "      <th>ANA ID</th>\n",
       "      <th>longitude_centroid</th>\n",
       "      <th>latitude_centroid</th>\n",
       "      <th>dist_coast</th>\n",
       "      <th>clim_p</th>\n",
       "      <th>clim_tmin</th>\n",
       "      <th>clim_tmax</th>\n",
       "      <th>clim_rh</th>\n",
       "      <th>clim_wind</th>\n",
       "      <th>...</th>\n",
       "      <th>soil_carbon</th>\n",
       "      <th>soil_bulk</th>\n",
       "      <th>soil_depth</th>\n",
       "      <th>catch_area</th>\n",
       "      <th>elev_mean</th>\n",
       "      <th>elev_min</th>\n",
       "      <th>elev_max</th>\n",
       "      <th>elev_gauge</th>\n",
       "      <th>catch_slope</th>\n",
       "      <th>catch_order</th>\n",
       "    </tr>\n",
       "  </thead>\n",
       "  <tbody>\n",
       "    <tr>\n",
       "      <th>0</th>\n",
       "      <td>1</td>\n",
       "      <td>13880000</td>\n",
       "      <td>-68.028</td>\n",
       "      <td>-8.989</td>\n",
       "      <td>1407.55</td>\n",
       "      <td>5.64</td>\n",
       "      <td>21.61</td>\n",
       "      <td>30.48</td>\n",
       "      <td>83.17</td>\n",
       "      <td>0.82</td>\n",
       "      <td>...</td>\n",
       "      <td>34.439</td>\n",
       "      <td>25.456</td>\n",
       "      <td>1.335</td>\n",
       "      <td>243.410.279</td>\n",
       "      <td>178.97</td>\n",
       "      <td>44.65</td>\n",
       "      <td>564.03</td>\n",
       "      <td>44.65</td>\n",
       "      <td>3.14</td>\n",
       "      <td>7</td>\n",
       "    </tr>\n",
       "    <tr>\n",
       "      <th>1</th>\n",
       "      <td>2</td>\n",
       "      <td>14110000</td>\n",
       "      <td>-66.695</td>\n",
       "      <td>2.016</td>\n",
       "      <td>1009.09</td>\n",
       "      <td>8.88</td>\n",
       "      <td>21.83</td>\n",
       "      <td>28.60</td>\n",
       "      <td>86.41</td>\n",
       "      <td>0.42</td>\n",
       "      <td>...</td>\n",
       "      <td>21.926</td>\n",
       "      <td>17.609</td>\n",
       "      <td>1.256</td>\n",
       "      <td>76.898.617</td>\n",
       "      <td>222.97</td>\n",
       "      <td>80.40</td>\n",
       "      <td>2892.44</td>\n",
       "      <td>80.40</td>\n",
       "      <td>4.72</td>\n",
       "      <td>6</td>\n",
       "    </tr>\n",
       "    <tr>\n",
       "      <th>2</th>\n",
       "      <td>3</td>\n",
       "      <td>14230000</td>\n",
       "      <td>-68.936</td>\n",
       "      <td>1.573</td>\n",
       "      <td>1009.70</td>\n",
       "      <td>8.52</td>\n",
       "      <td>22.18</td>\n",
       "      <td>29.67</td>\n",
       "      <td>85.71</td>\n",
       "      <td>0.60</td>\n",
       "      <td>...</td>\n",
       "      <td>23.241</td>\n",
       "      <td>20.530</td>\n",
       "      <td>1.219</td>\n",
       "      <td>24.018.785</td>\n",
       "      <td>151.47</td>\n",
       "      <td>80.86</td>\n",
       "      <td>952.20</td>\n",
       "      <td>80.86</td>\n",
       "      <td>2.81</td>\n",
       "      <td>4</td>\n",
       "    </tr>\n",
       "    <tr>\n",
       "      <th>3</th>\n",
       "      <td>4</td>\n",
       "      <td>14250000</td>\n",
       "      <td>-67.305</td>\n",
       "      <td>1.734</td>\n",
       "      <td>1095.42</td>\n",
       "      <td>8.86</td>\n",
       "      <td>22.00</td>\n",
       "      <td>29.13</td>\n",
       "      <td>86.26</td>\n",
       "      <td>0.49</td>\n",
       "      <td>...</td>\n",
       "      <td>22.725</td>\n",
       "      <td>18.612</td>\n",
       "      <td>1.235</td>\n",
       "      <td>127.540.913</td>\n",
       "      <td>184.31</td>\n",
       "      <td>74.32</td>\n",
       "      <td>2892.44</td>\n",
       "      <td>74.32</td>\n",
       "      <td>3.71</td>\n",
       "      <td>6</td>\n",
       "    </tr>\n",
       "    <tr>\n",
       "      <th>4</th>\n",
       "      <td>5</td>\n",
       "      <td>14260000</td>\n",
       "      <td>-70.894</td>\n",
       "      <td>1.201</td>\n",
       "      <td>964.52</td>\n",
       "      <td>7.79</td>\n",
       "      <td>21.91</td>\n",
       "      <td>28.80</td>\n",
       "      <td>85.44</td>\n",
       "      <td>0.67</td>\n",
       "      <td>...</td>\n",
       "      <td>22.066</td>\n",
       "      <td>20.859</td>\n",
       "      <td>1.248</td>\n",
       "      <td>41.762.638</td>\n",
       "      <td>206.08</td>\n",
       "      <td>85.09</td>\n",
       "      <td>615.36</td>\n",
       "      <td>85.09</td>\n",
       "      <td>2.30</td>\n",
       "      <td>5</td>\n",
       "    </tr>\n",
       "  </tbody>\n",
       "</table>\n",
       "<p>5 rows × 90 columns</p>\n",
       "</div>"
      ],
      "text/plain": [
       "   CABra ID    ANA ID  longitude_centroid  latitude_centroid  dist_coast  \\\n",
       "0         1  13880000             -68.028             -8.989     1407.55   \n",
       "1         2  14110000             -66.695              2.016     1009.09   \n",
       "2         3  14230000             -68.936              1.573     1009.70   \n",
       "3         4  14250000             -67.305              1.734     1095.42   \n",
       "4         5  14260000             -70.894              1.201      964.52   \n",
       "\n",
       "   clim_p  clim_tmin  clim_tmax  clim_rh  clim_wind  ...  soil_carbon  \\\n",
       "0    5.64      21.61      30.48    83.17       0.82  ...       34.439   \n",
       "1    8.88      21.83      28.60    86.41       0.42  ...       21.926   \n",
       "2    8.52      22.18      29.67    85.71       0.60  ...       23.241   \n",
       "3    8.86      22.00      29.13    86.26       0.49  ...       22.725   \n",
       "4    7.79      21.91      28.80    85.44       0.67  ...       22.066   \n",
       "\n",
       "   soil_bulk  soil_depth   catch_area  elev_mean  elev_min elev_max  \\\n",
       "0     25.456       1.335  243.410.279     178.97     44.65   564.03   \n",
       "1     17.609       1.256   76.898.617     222.97     80.40  2892.44   \n",
       "2     20.530       1.219   24.018.785     151.47     80.86   952.20   \n",
       "3     18.612       1.235  127.540.913     184.31     74.32  2892.44   \n",
       "4     20.859       1.248   41.762.638     206.08     85.09   615.36   \n",
       "\n",
       "  elev_gauge  catch_slope  catch_order  \n",
       "0      44.65         3.14            7  \n",
       "1      80.40         4.72            6  \n",
       "2      80.86         2.81            4  \n",
       "3      74.32         3.71            6  \n",
       "4      85.09         2.30            5  \n",
       "\n",
       "[5 rows x 90 columns]"
      ]
     },
     "execution_count": 59,
     "metadata": {},
     "output_type": "execute_result"
    }
   ],
   "source": [
    "df_merged.head()"
   ]
  },
  {
   "cell_type": "code",
   "execution_count": 60,
   "metadata": {},
   "outputs": [
    {
     "data": {
      "text/plain": [
       "Index(['CABra ID', 'ANA ID', 'longitude_centroid', 'latitude_centroid',\n",
       "       'dist_coast', 'clim_p', 'clim_tmin', 'clim_tmax', 'clim_rh',\n",
       "       'clim_wind', 'clim_srad', 'clim_et', 'clim_pet', 'aridity_index',\n",
       "       'p_seasonality', 'clim_quality', 'aquif_name', 'aquif_type',\n",
       "       'catch_wtd', 'catch_hand', 'hand_class', 'dist_urban', 'cover_urban_x',\n",
       "       'cover_crops_x', 'res_number', 'res_area', 'res_volume',\n",
       "       'res_regulation', 'water_demand', 'hdisturb_index', 'cover_main',\n",
       "       'cover_bare', 'cover_forest', 'cover_crops_y', 'cover_grass',\n",
       "       'cover_moss', 'cover_shrub', 'cover_urban_y', 'cover_snow',\n",
       "       'cover_waterp', 'cover_waters', 'ndvi_djf', 'ndvi_mam', 'ndvi_jja',\n",
       "       'ndvi_son', 'q_mean', 'q_1', 'q_5', 'q_95', 'q_99', 'q_lf', 'q_ld',\n",
       "       'q_hf', 'q_hd', 'q_hfd', 'q_zero', 'q_cv', 'q_lcv', 'q_hcv',\n",
       "       'q_elasticity', 'fdc_slope', 'baseflow_index', 'runoff_coef',\n",
       "       'longitude', 'latitude', 'gauge_hreg', 'gauge_biome', 'gauge_state',\n",
       "       'missing_data', 'series_length', 'quality_index', 'catch_lith',\n",
       "       'sub_porosity', 'sub_permeability', 'sub_hconduc', 'soil_type',\n",
       "       'soil_textclass', 'soil_sand', 'soil_silt', 'soil_clay', 'soil_carbon',\n",
       "       'soil_bulk', 'soil_depth', 'catch_area', 'elev_mean', 'elev_min',\n",
       "       'elev_max', 'elev_gauge', 'catch_slope', 'catch_order'],\n",
       "      dtype='object')"
      ]
     },
     "execution_count": 60,
     "metadata": {},
     "output_type": "execute_result"
    }
   ],
   "source": [
    "# All CABRa attributes files\n",
    "df_merged.columns"
   ]
  },
  {
   "cell_type": "code",
   "execution_count": 61,
   "metadata": {},
   "outputs": [
    {
     "name": "stderr",
     "output_type": "stream",
     "text": [
      "C:\\Users\\User\\anaconda3\\envs\\Teste_ML\\lib\\site-packages\\pandas\\core\\series.py:726: RuntimeWarning: invalid value encountered in log\n",
      "  result = getattr(ufunc, method)(*inputs, **kwargs)\n"
     ]
    }
   ],
   "source": [
    "# Calculating ECI (Liu et al. (2020))\n",
    "# Aparently there is a Warning\n",
    "df_merged['ECI'] = np.log(df_merged['q_mean']/(df_merged['clim_p']-df_merged['clim_et']))"
   ]
  },
  {
   "cell_type": "code",
   "execution_count": 62,
   "metadata": {},
   "outputs": [
    {
     "data": {
      "text/html": [
       "<div>\n",
       "<style scoped>\n",
       "    .dataframe tbody tr th:only-of-type {\n",
       "        vertical-align: middle;\n",
       "    }\n",
       "\n",
       "    .dataframe tbody tr th {\n",
       "        vertical-align: top;\n",
       "    }\n",
       "\n",
       "    .dataframe thead th {\n",
       "        text-align: right;\n",
       "    }\n",
       "</style>\n",
       "<table border=\"1\" class=\"dataframe\">\n",
       "  <thead>\n",
       "    <tr style=\"text-align: right;\">\n",
       "      <th></th>\n",
       "      <th>ECI</th>\n",
       "      <th>q_mean</th>\n",
       "      <th>clim_p</th>\n",
       "      <th>clim_et</th>\n",
       "    </tr>\n",
       "  </thead>\n",
       "  <tbody>\n",
       "    <tr>\n",
       "      <th>686</th>\n",
       "      <td>NaN</td>\n",
       "      <td>0.03</td>\n",
       "      <td>1.64</td>\n",
       "      <td>1.66</td>\n",
       "    </tr>\n",
       "  </tbody>\n",
       "</table>\n",
       "</div>"
      ],
      "text/plain": [
       "     ECI  q_mean  clim_p  clim_et\n",
       "686  NaN    0.03    1.64     1.66"
      ]
     },
     "execution_count": 62,
     "metadata": {},
     "output_type": "execute_result"
    }
   ],
   "source": [
    "# There is one bad ID\n",
    "# log(0) => Erro\n",
    "df_merged.loc[df_merged['ECI'].isnull(),['ECI', 'q_mean', 'clim_p', 'clim_et']]"
   ]
  },
  {
   "cell_type": "code",
   "execution_count": 63,
   "metadata": {},
   "outputs": [],
   "source": [
    "# Calculating the ratio Effective Area / Topographic Area (Liu et al. (2020))\n",
    "df_merged['Aeff/Atopo'] = df_merged['q_mean']/(df_merged['clim_p']-df_merged['clim_et'])"
   ]
  },
  {
   "cell_type": "code",
   "execution_count": 64,
   "metadata": {},
   "outputs": [
    {
     "data": {
      "text/html": [
       "<div>\n",
       "<style scoped>\n",
       "    .dataframe tbody tr th:only-of-type {\n",
       "        vertical-align: middle;\n",
       "    }\n",
       "\n",
       "    .dataframe tbody tr th {\n",
       "        vertical-align: top;\n",
       "    }\n",
       "\n",
       "    .dataframe thead th {\n",
       "        text-align: right;\n",
       "    }\n",
       "</style>\n",
       "<table border=\"1\" class=\"dataframe\">\n",
       "  <thead>\n",
       "    <tr style=\"text-align: right;\">\n",
       "      <th></th>\n",
       "      <th>Aeff/Atopo</th>\n",
       "      <th>ECI</th>\n",
       "    </tr>\n",
       "  </thead>\n",
       "  <tbody>\n",
       "    <tr>\n",
       "      <th>count</th>\n",
       "      <td>735.000000</td>\n",
       "      <td>734.000000</td>\n",
       "    </tr>\n",
       "    <tr>\n",
       "      <th>mean</th>\n",
       "      <td>1.033062</td>\n",
       "      <td>-0.057251</td>\n",
       "    </tr>\n",
       "    <tr>\n",
       "      <th>std</th>\n",
       "      <td>0.472764</td>\n",
       "      <td>0.461552</td>\n",
       "    </tr>\n",
       "    <tr>\n",
       "      <th>min</th>\n",
       "      <td>-1.500000</td>\n",
       "      <td>-2.277267</td>\n",
       "    </tr>\n",
       "    <tr>\n",
       "      <th>25%</th>\n",
       "      <td>0.812509</td>\n",
       "      <td>-0.205516</td>\n",
       "    </tr>\n",
       "    <tr>\n",
       "      <th>50%</th>\n",
       "      <td>1.006250</td>\n",
       "      <td>0.006505</td>\n",
       "    </tr>\n",
       "    <tr>\n",
       "      <th>75%</th>\n",
       "      <td>1.196199</td>\n",
       "      <td>0.179199</td>\n",
       "    </tr>\n",
       "    <tr>\n",
       "      <th>max</th>\n",
       "      <td>6.781955</td>\n",
       "      <td>1.914265</td>\n",
       "    </tr>\n",
       "  </tbody>\n",
       "</table>\n",
       "</div>"
      ],
      "text/plain": [
       "       Aeff/Atopo         ECI\n",
       "count  735.000000  734.000000\n",
       "mean     1.033062   -0.057251\n",
       "std      0.472764    0.461552\n",
       "min     -1.500000   -2.277267\n",
       "25%      0.812509   -0.205516\n",
       "50%      1.006250    0.006505\n",
       "75%      1.196199    0.179199\n",
       "max      6.781955    1.914265"
      ]
     },
     "execution_count": 64,
     "metadata": {},
     "output_type": "execute_result"
    }
   ],
   "source": [
    "# Checking ECI and Ratio\n",
    "df_merged[['Aeff/Atopo','ECI']].describe()"
   ]
  },
  {
   "cell_type": "code",
   "execution_count": 65,
   "metadata": {},
   "outputs": [],
   "source": [
    "# The column 'catch_area' is problematic, because it was a object type.\n",
    "# Changed to 'int'\n",
    "df_merged['catch_area'] = df_merged['catch_area'].str.replace('.','')\n",
    "df_merged['catch_area'] = df_merged['catch_area'].astype('int64')"
   ]
  },
  {
   "cell_type": "code",
   "execution_count": 66,
   "metadata": {},
   "outputs": [],
   "source": [
    "# List of relevant variables\n",
    "variables = ['aridity_index', 'catch_area','catch_slope','sub_permeability','elev_mean', 'dist_coast','res_area']"
   ]
  },
  {
   "cell_type": "code",
   "execution_count": 67,
   "metadata": {},
   "outputs": [],
   "source": [
    "# Creading GeoDataFrame\n",
    "gdf = gpd.GeoDataFrame(df_merged, geometry=gpd.points_from_xy(df_merged['longitude_centroid'], df_merged['latitude_centroid']))"
   ]
  },
  {
   "cell_type": "code",
   "execution_count": 68,
   "metadata": {},
   "outputs": [],
   "source": [
    "world = gpd.read_file(gpd.datasets.get_path('naturalearth_lowres'))"
   ]
  },
  {
   "cell_type": "code",
   "execution_count": 120,
   "metadata": {},
   "outputs": [],
   "source": [
    "def map_ratio(max_ratio, min_ratio):\n",
    "    df_merged.loc[df_merged['Aeff/Atopo']>=max_ratio, 'substantial'] = 'gaining'\n",
    "\n",
    "    df_merged.loc[(df_merged['Aeff/Atopo']>min_ratio)&\n",
    "                  (df_merged['Aeff/Atopo']<=1), 'substantial'] = 'smaller_losing'\n",
    "    df_merged.loc[(df_merged['Aeff/Atopo']<max_ratio)&\n",
    "              (df_merged['Aeff/Atopo']>1), 'substantial'] = 'smaller_gaining'\n",
    "    df_merged.loc[df_merged['Aeff/Atopo']<=min_ratio, 'substantial'] = 'losing'\n",
    "    \n",
    "    fig, ax = plt.subplots(1, 1, figsize=(7,7))\n",
    "    world[world.continent == 'South America'].plot(color='white', edgecolor='black', ax=ax)\n",
    "\n",
    "    gdf.loc[gdf['substantial']=='smaller_gaining'].plot(color='lightblue', ax=ax,alpha=0.3)\n",
    "    gdf.loc[gdf['substantial']=='smaller_losing'].plot(color='pink', ax=ax,alpha=0.3)\n",
    "    gdf.loc[gdf['substantial']=='gaining'].plot(color='blue', ax=ax, alpha=0.3)\n",
    "    gdf.loc[gdf['substantial']=='losing'].plot(color='red', ax=ax, alpha=0.3)\n",
    "\n",
    "#     fig.savefig('mapinha.png')\n",
    "    plt.show()"
   ]
  },
  {
   "cell_type": "code",
   "execution_count": 121,
   "metadata": {},
   "outputs": [],
   "source": [
    "def scatter_ratio(max_ratio, min_ratio):\n",
    "    df_merged.loc[df_merged['Aeff/Atopo']>=max_ratio, 'substantial'] = 'gaining'\n",
    "    df_merged.loc[(df_merged['Aeff/Atopo']<max_ratio)&\n",
    "                  (df_merged['Aeff/Atopo']>1), 'substantial'] = 'smaller_gaining'\n",
    "    df_merged.loc[(df_merged['Aeff/Atopo']>min_ratio)&\n",
    "                  (df_merged['Aeff/Atopo']<=1), 'substantial'] = 'smaller_losing'\n",
    "    df_merged.loc[df_merged['Aeff/Atopo']<=min_ratio, 'substantial'] = 'losing'\n",
    "    fig, axes = plt.subplots(3,4, figsize=(25,20))\n",
    "    sns.scatterplot(x='aridity_index', y='ECI', hue='substantial',data=df_merged, ax=axes[0,0], palette=['lightblue','blue','pink', 'red'], alpha=0.5)\n",
    "    sns.scatterplot(x='catch_area', y='ECI', hue='substantial', data=df_merged, ax=axes[0,1], palette=['lightblue','blue','pink', 'red'], alpha=0.5)\n",
    "    sns.scatterplot(x='catch_slope', y='ECI', hue='substantial', data=df_merged, ax=axes[0,2], palette=['lightblue','blue','pink', 'red'], alpha=0.5)\n",
    "    sns.scatterplot(x='dist_coast', y='ECI', hue='substantial', data=df_merged, ax=axes[0,3], palette=['lightblue','blue','pink', 'red'], alpha=0.5)\n",
    "    sns.scatterplot(x='sub_permeability', y='ECI', hue='substantial', data=df_merged, ax=axes[1,0], palette=['lightblue','blue','pink', 'red'], alpha=0.5)\n",
    "    sns.scatterplot(x='elev_mean', y='ECI', hue='substantial', data=df_merged, ax=axes[1,1], palette=['lightblue','blue','pink', 'red'], alpha=0.5)\n",
    "    sns.scatterplot(x='res_area', y='ECI', hue='substantial', data=df_merged, ax=axes[1,2], palette=['lightblue','blue','pink', 'red'], alpha=0.5)\n",
    "    sns.scatterplot(x='soil_textclass', y='ECI', hue='substantial', data=df_merged, ax=axes[1,3], palette=['lightblue','blue','pink', 'red'], alpha=0.5)\n",
    "    sns.scatterplot(x='sub_porosity', y='ECI', hue='substantial', data=df_merged, ax=axes[2,0], palette=['lightblue','blue','pink', 'red'], alpha=0.5)\n",
    "    sns.scatterplot(x='gauge_biome', y='ECI', hue='substantial', data=df_merged, ax=axes[2,1], palette=['lightblue','blue','pink', 'red'], alpha=0.5)\n",
    "    sns.scatterplot(x='sub_hconduc', y='ECI', hue='substantial', data=df_merged, ax=axes[2,2], palette=['lightblue','blue','pink', 'red'], alpha=0.5)\n",
    "    sns.scatterplot(x=df_merged['clim_pet']/df_merged['clim_p'], y=(df_merged['clim_p']-df_merged['q_mean'])/df_merged['clim_p'], hue='substantial', data=df_merged, ax=axes[2,3])\n",
    "#     fig.savefig('dsafsdfs.png')"
   ]
  },
  {
   "cell_type": "code",
   "execution_count": 122,
   "metadata": {},
   "outputs": [],
   "source": [
    "max_widget = FloatSlider(value=2,min=1,max=3, step=0.01)\n",
    "min_widget = FloatSlider(value=0.5,min=0,max=1, step=0.01)"
   ]
  },
  {
   "cell_type": "code",
   "execution_count": 123,
   "metadata": {},
   "outputs": [
    {
     "data": {
      "application/vnd.jupyter.widget-view+json": {
       "model_id": "7d0d8da9495744ce8d7a4e5219c0d434",
       "version_major": 2,
       "version_minor": 0
      },
      "text/plain": [
       "interactive(children=(FloatSlider(value=2.0, description='max_ratio', max=3.0, min=1.0, step=0.01), FloatSlide…"
      ]
     },
     "metadata": {},
     "output_type": "display_data"
    }
   ],
   "source": [
    "interact(map_ratio, max_ratio=max_widget, min_ratio=min_widget);"
   ]
  },
  {
   "cell_type": "code",
   "execution_count": 124,
   "metadata": {},
   "outputs": [
    {
     "data": {
      "application/vnd.jupyter.widget-view+json": {
       "model_id": "51e939647b1f4f31be1ca0b3de52e561",
       "version_major": 2,
       "version_minor": 0
      },
      "text/plain": [
       "interactive(children=(FloatSlider(value=2.0, description='max_ratio', max=3.0, min=1.0, step=0.01), FloatSlide…"
      ]
     },
     "metadata": {},
     "output_type": "display_data"
    }
   ],
   "source": [
    "interact(scatter_ratio, max_ratio=max_widget, min_ratio=min_widget);"
   ]
  },
  {
   "cell_type": "code",
   "execution_count": null,
   "metadata": {},
   "outputs": [],
   "source": []
  },
  {
   "cell_type": "code",
   "execution_count": null,
   "metadata": {},
   "outputs": [],
   "source": []
  }
 ],
 "metadata": {
  "kernelspec": {
   "display_name": "Teste_ML",
   "language": "python",
   "name": "teste_ml"
  },
  "language_info": {
   "codemirror_mode": {
    "name": "ipython",
    "version": 3
   },
   "file_extension": ".py",
   "mimetype": "text/x-python",
   "name": "python",
   "nbconvert_exporter": "python",
   "pygments_lexer": "ipython3",
   "version": "3.7.7"
  }
 },
 "nbformat": 4,
 "nbformat_minor": 4
}
