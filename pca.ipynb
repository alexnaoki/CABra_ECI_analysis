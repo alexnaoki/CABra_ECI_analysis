{
 "cells": [
  {
   "cell_type": "markdown",
   "metadata": {},
   "source": [
    "## Importing libraries\n",
    "---------------"
   ]
  },
  {
   "cell_type": "code",
   "execution_count": 1,
   "metadata": {},
   "outputs": [],
   "source": [
    "import pandas as pd\n",
    "import pathlib\n",
    "import numpy as np\n",
    "import seaborn as sns\n",
    "import matplotlib.pyplot as plt\n",
    "\n",
    "from sklearn.ensemble import RandomForestRegressor\n",
    "from sklearn.ensemble import RandomForestClassifier\n",
    "from sklearn.preprocessing import StandardScaler\n",
    "from sklearn.decomposition import PCA\n",
    "\n",
    "from functools import reduce"
   ]
  },
  {
   "cell_type": "markdown",
   "metadata": {},
   "source": [
    "## Reading Files\n",
    "---------------"
   ]
  },
  {
   "cell_type": "code",
   "execution_count": 2,
   "metadata": {},
   "outputs": [],
   "source": [
    "# Finding CABRa attributes csv files\n",
    "path_files = pathlib.Path('CABRa_attributes_csv/')\n",
    "cabra_attributes_files = path_files.rglob('*.csv')"
   ]
  },
  {
   "cell_type": "code",
   "execution_count": 3,
   "metadata": {},
   "outputs": [
    {
     "name": "stdout",
     "output_type": "stream",
     "text": [
      "CABRa_attributes_csv\\CABra_dataset _Additional_attributes.csv\n",
      "CABRa_attributes_csv\\CABra_dataset _Climate_attributes.csv\n",
      "CABRa_attributes_csv\\CABra_dataset_Groundwater_attributes.csv\n",
      "CABRa_attributes_csv\\CABra_dataset_Hydrologic_disturbance_attributes.csv\n",
      "CABRa_attributes_csv\\CABra_dataset_Land_cover_attributes.csv\n",
      "CABRa_attributes_csv\\CABra_dataset_Streamflow_attributes.csv\n",
      "CABRa_attributes_csv\\cabra_general_attributes.csv\n",
      "CABRa_attributes_csv\\cabra_Geology_attributes.csv\n",
      "CABRa_attributes_csv\\CABra_soil_attributes.csv\n",
      "CABRa_attributes_csv\\CABra_topography_attributes.csv\n"
     ]
    }
   ],
   "source": [
    "# Reading files\n",
    "dfs = []\n",
    "for file in cabra_attributes_files:\n",
    "    print(file)\n",
    "    df = pd.read_csv(file, engine='python', delimiter=';')\n",
    "    dfs.append(df)"
   ]
  },
  {
   "cell_type": "markdown",
   "metadata": {},
   "source": [
    "## Creating Dataset and preparing for PCA\n",
    "-----------------------"
   ]
  },
  {
   "cell_type": "code",
   "execution_count": 4,
   "metadata": {},
   "outputs": [],
   "source": [
    "# Merging DataFrames\n",
    "df_merged = reduce(lambda  left,right: pd.merge(left, right, on=['CABra ID', 'ANA ID'], how='outer'), dfs)"
   ]
  },
  {
   "cell_type": "code",
   "execution_count": 5,
   "metadata": {},
   "outputs": [
    {
     "data": {
      "text/html": [
       "<div>\n",
       "<style scoped>\n",
       "    .dataframe tbody tr th:only-of-type {\n",
       "        vertical-align: middle;\n",
       "    }\n",
       "\n",
       "    .dataframe tbody tr th {\n",
       "        vertical-align: top;\n",
       "    }\n",
       "\n",
       "    .dataframe thead th {\n",
       "        text-align: right;\n",
       "    }\n",
       "</style>\n",
       "<table border=\"1\" class=\"dataframe\">\n",
       "  <thead>\n",
       "    <tr style=\"text-align: right;\">\n",
       "      <th></th>\n",
       "      <th>CABra ID</th>\n",
       "      <th>ANA ID</th>\n",
       "      <th>longitude_centroid</th>\n",
       "      <th>latitude_centroid</th>\n",
       "      <th>dist_coast</th>\n",
       "      <th>clim_p</th>\n",
       "      <th>clim_tmin</th>\n",
       "      <th>clim_tmax</th>\n",
       "      <th>clim_rh</th>\n",
       "      <th>clim_wind</th>\n",
       "      <th>...</th>\n",
       "      <th>soil_carbon</th>\n",
       "      <th>soil_bulk</th>\n",
       "      <th>soil_depth</th>\n",
       "      <th>catch_area</th>\n",
       "      <th>elev_mean</th>\n",
       "      <th>elev_min</th>\n",
       "      <th>elev_max</th>\n",
       "      <th>elev_gauge</th>\n",
       "      <th>catch_slope</th>\n",
       "      <th>catch_order</th>\n",
       "    </tr>\n",
       "  </thead>\n",
       "  <tbody>\n",
       "    <tr>\n",
       "      <th>0</th>\n",
       "      <td>1</td>\n",
       "      <td>13880000</td>\n",
       "      <td>-68.028</td>\n",
       "      <td>-8.989</td>\n",
       "      <td>1407.55</td>\n",
       "      <td>5.64</td>\n",
       "      <td>21.61</td>\n",
       "      <td>30.48</td>\n",
       "      <td>83.17</td>\n",
       "      <td>0.82</td>\n",
       "      <td>...</td>\n",
       "      <td>34.439</td>\n",
       "      <td>25.456</td>\n",
       "      <td>1.335</td>\n",
       "      <td>243.410.279</td>\n",
       "      <td>178.97</td>\n",
       "      <td>44.65</td>\n",
       "      <td>564.03</td>\n",
       "      <td>44.65</td>\n",
       "      <td>3.14</td>\n",
       "      <td>7</td>\n",
       "    </tr>\n",
       "    <tr>\n",
       "      <th>1</th>\n",
       "      <td>2</td>\n",
       "      <td>14110000</td>\n",
       "      <td>-66.695</td>\n",
       "      <td>2.016</td>\n",
       "      <td>1009.09</td>\n",
       "      <td>8.88</td>\n",
       "      <td>21.83</td>\n",
       "      <td>28.60</td>\n",
       "      <td>86.41</td>\n",
       "      <td>0.42</td>\n",
       "      <td>...</td>\n",
       "      <td>21.926</td>\n",
       "      <td>17.609</td>\n",
       "      <td>1.256</td>\n",
       "      <td>76.898.617</td>\n",
       "      <td>222.97</td>\n",
       "      <td>80.40</td>\n",
       "      <td>2892.44</td>\n",
       "      <td>80.40</td>\n",
       "      <td>4.72</td>\n",
       "      <td>6</td>\n",
       "    </tr>\n",
       "    <tr>\n",
       "      <th>2</th>\n",
       "      <td>3</td>\n",
       "      <td>14230000</td>\n",
       "      <td>-68.936</td>\n",
       "      <td>1.573</td>\n",
       "      <td>1009.70</td>\n",
       "      <td>8.52</td>\n",
       "      <td>22.18</td>\n",
       "      <td>29.67</td>\n",
       "      <td>85.71</td>\n",
       "      <td>0.60</td>\n",
       "      <td>...</td>\n",
       "      <td>23.241</td>\n",
       "      <td>20.530</td>\n",
       "      <td>1.219</td>\n",
       "      <td>24.018.785</td>\n",
       "      <td>151.47</td>\n",
       "      <td>80.86</td>\n",
       "      <td>952.20</td>\n",
       "      <td>80.86</td>\n",
       "      <td>2.81</td>\n",
       "      <td>4</td>\n",
       "    </tr>\n",
       "    <tr>\n",
       "      <th>3</th>\n",
       "      <td>4</td>\n",
       "      <td>14250000</td>\n",
       "      <td>-67.305</td>\n",
       "      <td>1.734</td>\n",
       "      <td>1095.42</td>\n",
       "      <td>8.86</td>\n",
       "      <td>22.00</td>\n",
       "      <td>29.13</td>\n",
       "      <td>86.26</td>\n",
       "      <td>0.49</td>\n",
       "      <td>...</td>\n",
       "      <td>22.725</td>\n",
       "      <td>18.612</td>\n",
       "      <td>1.235</td>\n",
       "      <td>127.540.913</td>\n",
       "      <td>184.31</td>\n",
       "      <td>74.32</td>\n",
       "      <td>2892.44</td>\n",
       "      <td>74.32</td>\n",
       "      <td>3.71</td>\n",
       "      <td>6</td>\n",
       "    </tr>\n",
       "    <tr>\n",
       "      <th>4</th>\n",
       "      <td>5</td>\n",
       "      <td>14260000</td>\n",
       "      <td>-70.894</td>\n",
       "      <td>1.201</td>\n",
       "      <td>964.52</td>\n",
       "      <td>7.79</td>\n",
       "      <td>21.91</td>\n",
       "      <td>28.80</td>\n",
       "      <td>85.44</td>\n",
       "      <td>0.67</td>\n",
       "      <td>...</td>\n",
       "      <td>22.066</td>\n",
       "      <td>20.859</td>\n",
       "      <td>1.248</td>\n",
       "      <td>41.762.638</td>\n",
       "      <td>206.08</td>\n",
       "      <td>85.09</td>\n",
       "      <td>615.36</td>\n",
       "      <td>85.09</td>\n",
       "      <td>2.30</td>\n",
       "      <td>5</td>\n",
       "    </tr>\n",
       "  </tbody>\n",
       "</table>\n",
       "<p>5 rows × 90 columns</p>\n",
       "</div>"
      ],
      "text/plain": [
       "   CABra ID    ANA ID  longitude_centroid  latitude_centroid  dist_coast  \\\n",
       "0         1  13880000             -68.028             -8.989     1407.55   \n",
       "1         2  14110000             -66.695              2.016     1009.09   \n",
       "2         3  14230000             -68.936              1.573     1009.70   \n",
       "3         4  14250000             -67.305              1.734     1095.42   \n",
       "4         5  14260000             -70.894              1.201      964.52   \n",
       "\n",
       "   clim_p  clim_tmin  clim_tmax  clim_rh  clim_wind  ...  soil_carbon  \\\n",
       "0    5.64      21.61      30.48    83.17       0.82  ...       34.439   \n",
       "1    8.88      21.83      28.60    86.41       0.42  ...       21.926   \n",
       "2    8.52      22.18      29.67    85.71       0.60  ...       23.241   \n",
       "3    8.86      22.00      29.13    86.26       0.49  ...       22.725   \n",
       "4    7.79      21.91      28.80    85.44       0.67  ...       22.066   \n",
       "\n",
       "   soil_bulk  soil_depth   catch_area  elev_mean  elev_min elev_max  \\\n",
       "0     25.456       1.335  243.410.279     178.97     44.65   564.03   \n",
       "1     17.609       1.256   76.898.617     222.97     80.40  2892.44   \n",
       "2     20.530       1.219   24.018.785     151.47     80.86   952.20   \n",
       "3     18.612       1.235  127.540.913     184.31     74.32  2892.44   \n",
       "4     20.859       1.248   41.762.638     206.08     85.09   615.36   \n",
       "\n",
       "  elev_gauge  catch_slope  catch_order  \n",
       "0      44.65         3.14            7  \n",
       "1      80.40         4.72            6  \n",
       "2      80.86         2.81            4  \n",
       "3      74.32         3.71            6  \n",
       "4      85.09         2.30            5  \n",
       "\n",
       "[5 rows x 90 columns]"
      ]
     },
     "execution_count": 5,
     "metadata": {},
     "output_type": "execute_result"
    }
   ],
   "source": [
    "df_merged.head()"
   ]
  },
  {
   "cell_type": "code",
   "execution_count": 35,
   "metadata": {},
   "outputs": [
    {
     "data": {
      "text/plain": [
       "Index(['CABra ID', 'ANA ID', 'longitude_centroid', 'latitude_centroid',\n",
       "       'dist_coast', 'clim_p', 'clim_tmin', 'clim_tmax', 'clim_rh',\n",
       "       'clim_wind', 'clim_srad', 'clim_et', 'clim_pet', 'aridity_index',\n",
       "       'p_seasonality', 'clim_quality', 'aquif_name', 'aquif_type',\n",
       "       'catch_wtd', 'catch_hand', 'hand_class', 'dist_urban', 'cover_urban_x',\n",
       "       'cover_crops_x', 'res_number', 'res_area', 'res_volume',\n",
       "       'res_regulation', 'water_demand', 'hdisturb_index', 'cover_main',\n",
       "       'cover_bare', 'cover_forest', 'cover_crops_y', 'cover_grass',\n",
       "       'cover_moss', 'cover_shrub', 'cover_urban_y', 'cover_snow',\n",
       "       'cover_waterp', 'cover_waters', 'ndvi_djf', 'ndvi_mam', 'ndvi_jja',\n",
       "       'ndvi_son', 'q_mean', 'q_1', 'q_5', 'q_95', 'q_99', 'q_lf', 'q_ld',\n",
       "       'q_hf', 'q_hd', 'q_hfd', 'q_zero', 'q_cv', 'q_lcv', 'q_hcv',\n",
       "       'q_elasticity', 'fdc_slope', 'baseflow_index', 'runoff_coef',\n",
       "       'longitude', 'latitude', 'gauge_hreg', 'gauge_biome', 'gauge_state',\n",
       "       'missing_data', 'series_length', 'quality_index', 'catch_lith',\n",
       "       'sub_porosity', 'sub_permeability', 'sub_hconduc', 'soil_type',\n",
       "       'soil_textclass', 'soil_sand', 'soil_silt', 'soil_clay', 'soil_carbon',\n",
       "       'soil_bulk', 'soil_depth', 'catch_area', 'elev_mean', 'elev_min',\n",
       "       'elev_max', 'elev_gauge', 'catch_slope', 'catch_order', 'ECI',\n",
       "       'Aeff/Atopo', 'substantial'],\n",
       "      dtype='object')"
      ]
     },
     "execution_count": 35,
     "metadata": {},
     "output_type": "execute_result"
    }
   ],
   "source": [
    "# All CABRa attributes files\n",
    "df_merged.columns"
   ]
  },
  {
   "cell_type": "code",
   "execution_count": 13,
   "metadata": {},
   "outputs": [],
   "source": [
    "# The column 'catch_area' is problematic, because it was a object type.\n",
    "# Changed to 'int'\n",
    "df_merged['catch_area'] = df_merged['catch_area'].str.replace('.','')\n",
    "df_merged['catch_area'] = df_merged['catch_area'].astype('int64')\n",
    "df_merged['catch_area'] = df_merged['catch_area']/1000"
   ]
  },
  {
   "cell_type": "code",
   "execution_count": 18,
   "metadata": {},
   "outputs": [],
   "source": [
    "# Pre-selection of the variables from CABra columns\n",
    "variables = ['dist_coast','aridity_index','p_seasonality',  'aquif_name', 'aquif_type',\n",
    "             'catch_wtd', 'catch_hand', 'hand_class','res_area',  'hdisturb_index',\n",
    "             'q_elasticity', 'baseflow_index',  'gauge_hreg', 'gauge_biome', 'gauge_state',\n",
    "             'catch_lith', 'sub_porosity', 'sub_permeability', 'sub_hconduc', 'soil_type',\n",
    "             'soil_textclass','elev_mean', 'catch_slope', 'catch_order']"
   ]
  },
  {
   "cell_type": "code",
   "execution_count": 36,
   "metadata": {},
   "outputs": [],
   "source": [
    "# Removing non-numerical variables\n",
    "number_variables = []\n",
    "for v, i in zip(variables, df_merged[variables].dtypes):\n",
    "    if ('float' in str(i)) or ('int' in str(i)):\n",
    "        number_variables.append(v)\n",
    "    else:\n",
    "        pass"
   ]
  },
  {
   "cell_type": "code",
   "execution_count": 37,
   "metadata": {},
   "outputs": [
    {
     "data": {
      "text/plain": [
       "['dist_coast',\n",
       " 'aridity_index',\n",
       " 'p_seasonality',\n",
       " 'catch_wtd',\n",
       " 'catch_hand',\n",
       " 'res_area',\n",
       " 'hdisturb_index',\n",
       " 'q_elasticity',\n",
       " 'baseflow_index',\n",
       " 'sub_porosity',\n",
       " 'sub_permeability',\n",
       " 'sub_hconduc',\n",
       " 'elev_mean',\n",
       " 'catch_slope',\n",
       " 'catch_order']"
      ]
     },
     "execution_count": 37,
     "metadata": {},
     "output_type": "execute_result"
    }
   ],
   "source": [
    "number_variables"
   ]
  },
  {
   "cell_type": "code",
   "execution_count": 22,
   "metadata": {},
   "outputs": [],
   "source": [
    "# Scaling data before PCA\n",
    "scaler = StandardScaler()\n",
    "scaler.fit(df_merged[number_variables])\n",
    "X = scaler.transform(df_merged[number_variables])"
   ]
  },
  {
   "cell_type": "code",
   "execution_count": 41,
   "metadata": {},
   "outputs": [],
   "source": [
    "# PCA\n",
    "pca = PCA(n_components=len(number_variables))\n",
    "\n",
    "X_new = pca.fit_transform(X)"
   ]
  },
  {
   "cell_type": "code",
   "execution_count": 42,
   "metadata": {},
   "outputs": [
    {
     "data": {
      "text/plain": [
       "array([0.27763393, 0.43708579, 0.55017914, 0.64985548, 0.74024437,\n",
       "       0.79615541, 0.84618548, 0.88420249, 0.91846367, 0.94590118,\n",
       "       0.96834024, 0.98711237, 0.99690331, 1.        , 1.        ])"
      ]
     },
     "execution_count": 42,
     "metadata": {},
     "output_type": "execute_result"
    }
   ],
   "source": [
    "# Acumulative variance ratio from PCA\n",
    "pca.explained_variance_ratio_.cumsum()"
   ]
  },
  {
   "cell_type": "code",
   "execution_count": 27,
   "metadata": {},
   "outputs": [
    {
     "data": {
      "text/plain": [
       "array([5.53255284e+01, 4.19279953e+01, 3.53108212e+01, 3.31501392e+01,\n",
       "       3.15679818e+01, 2.48277907e+01, 2.34857727e+01, 2.04728496e+01,\n",
       "       1.94352649e+01, 1.73924856e+01, 1.57286552e+01, 1.43862012e+01,\n",
       "       1.03896629e+01, 5.84302855e+00, 2.74382360e-14])"
      ]
     },
     "execution_count": 27,
     "metadata": {},
     "output_type": "execute_result"
    }
   ],
   "source": [
    "pca.singular_values_"
   ]
  },
  {
   "cell_type": "code",
   "execution_count": 28,
   "metadata": {},
   "outputs": [],
   "source": [
    "n_pcs = pca.components_.shape[0]\n",
    "most_important = [np.abs(pca.components_[i]).argmax() for i in range(n_pcs)]\n",
    "value = [np.abs(pca.components_[i]).max() for i in range(n_pcs)]"
   ]
  },
  {
   "cell_type": "code",
   "execution_count": 55,
   "metadata": {},
   "outputs": [
    {
     "name": "stdout",
     "output_type": "stream",
     "text": [
      "PCA #0\t | 0.28\n",
      "elev_mean\t: 0.30\t|0.08\n",
      "sub_porosity\t: -0.33\t|-0.09\n",
      "catch_wtd\t: -0.39\t|-0.11\n",
      "catch_hand\t: 0.42\t|0.12\n",
      "catch_slope\t: 0.46\t|0.13\n",
      "\n",
      "PCA #1\t | 0.16\n",
      "q_elasticity\t: 0.25\t|0.04\n",
      "p_seasonality\t: -0.28\t|-0.05\n",
      "hdisturb_index\t: -0.30\t|-0.05\n",
      "sub_hconduc\t: -0.54\t|-0.09\n",
      "sub_permeability\t: -0.54\t|-0.09\n",
      "\n",
      "PCA #2\t | 0.11\n",
      "p_seasonality\t: -0.27\t|-0.03\n",
      "dist_coast\t: -0.36\t|-0.04\n",
      "hdisturb_index\t: 0.36\t|0.04\n",
      "res_area\t: 0.45\t|0.05\n",
      "baseflow_index\t: -0.47\t|-0.05\n",
      "\n",
      "PCA #3\t | 0.10\n",
      "q_elasticity\t: -0.37\t|-0.04\n",
      "sub_hconduc\t: -0.39\t|-0.04\n",
      "sub_permeability\t: -0.39\t|-0.04\n",
      "hdisturb_index\t: 0.42\t|0.04\n",
      "res_area\t: 0.49\t|0.05\n",
      "\n",
      "PCA #4\t | 0.09\n",
      "catch_order\t: 0.23\t|0.02\n",
      "baseflow_index\t: 0.32\t|0.03\n",
      "q_elasticity\t: 0.36\t|0.03\n",
      "p_seasonality\t: 0.42\t|0.04\n",
      "aridity_index\t: 0.64\t|0.06\n",
      "\n",
      "PCA #5\t | 0.06\n",
      "baseflow_index\t: -0.26\t|-0.01\n",
      "catch_wtd\t: 0.28\t|0.02\n",
      "q_elasticity\t: 0.30\t|0.02\n",
      "elev_mean\t: 0.32\t|0.02\n",
      "catch_order\t: -0.69\t|-0.04\n",
      "\n",
      "PCA #6\t | 0.05\n",
      "aridity_index\t: 0.23\t|0.01\n",
      "hdisturb_index\t: 0.23\t|0.01\n",
      "res_area\t: -0.29\t|-0.01\n",
      "catch_wtd\t: -0.35\t|-0.02\n",
      "sub_porosity\t: 0.73\t|0.04\n",
      "\n",
      "PCA #7\t | 0.04\n",
      "aridity_index\t: -0.25\t|-0.01\n",
      "q_elasticity\t: 0.34\t|0.01\n",
      "catch_order\t: 0.34\t|0.01\n",
      "baseflow_index\t: -0.54\t|-0.02\n",
      "dist_coast\t: 0.54\t|0.02\n",
      "\n",
      "PCA #8\t | 0.03\n",
      "catch_hand\t: -0.33\t|-0.01\n",
      "aridity_index\t: 0.33\t|0.01\n",
      "p_seasonality\t: 0.34\t|0.01\n",
      "baseflow_index\t: -0.47\t|-0.02\n",
      "q_elasticity\t: -0.51\t|-0.02\n",
      "\n",
      "PCA #9\t | 0.03\n",
      "sub_porosity\t: -0.24\t|-0.01\n",
      "catch_order\t: -0.31\t|-0.01\n",
      "hdisturb_index\t: 0.39\t|0.01\n",
      "dist_coast\t: 0.44\t|0.01\n",
      "elev_mean\t: -0.60\t|-0.02\n",
      "\n",
      "PCA #10\t | 0.02\n",
      "q_elasticity\t: -0.22\t|-0.00\n",
      "dist_coast\t: 0.26\t|0.01\n",
      "catch_order\t: -0.32\t|-0.01\n",
      "hdisturb_index\t: -0.56\t|-0.01\n",
      "res_area\t: 0.57\t|0.01\n",
      "\n",
      "PCA #11\t | 0.02\n",
      "dist_coast\t: 0.32\t|0.01\n",
      "elev_mean\t: 0.32\t|0.01\n",
      "catch_hand\t: 0.33\t|0.01\n",
      "sub_porosity\t: -0.37\t|-0.01\n",
      "p_seasonality\t: -0.56\t|-0.01\n",
      "\n",
      "PCA #12\t | 0.01\n",
      "dist_coast\t: -0.18\t|-0.00\n",
      "p_seasonality\t: 0.27\t|0.00\n",
      "elev_mean\t: -0.29\t|-0.00\n",
      "catch_wtd\t: 0.55\t|0.01\n",
      "catch_hand\t: 0.67\t|0.01\n",
      "\n",
      "PCA #13\t | 0.00\n",
      "dist_coast\t: -0.16\t|-0.00\n",
      "sub_porosity\t: -0.21\t|-0.00\n",
      "aridity_index\t: -0.28\t|-0.00\n",
      "catch_wtd\t: -0.44\t|-0.00\n",
      "catch_slope\t: -0.78\t|-0.00\n",
      "\n",
      "PCA #14\t | 0.00\n",
      "sub_porosity\t: 0.00\t|0.00\n",
      "catch_wtd\t: 0.00\t|0.00\n",
      "catch_slope\t: 0.00\t|0.00\n",
      "sub_permeability\t: -0.71\t|-0.00\n",
      "sub_hconduc\t: 0.71\t|0.00\n",
      "\n"
     ]
    }
   ],
   "source": [
    "# Checking top 5 variables from each PC\n",
    "for j in range(n_pcs):\n",
    "    print(f'PCA #{j}\\t | {pca.explained_variance_ratio_[j]:.2f}')\n",
    "    for i in np.argsort(np.abs(pca.components_[j]))[-5:]:\n",
    "        print(f'{number_variables[i]}\\t: {pca.components_[j][i]:.2f}\\t|{pca.components_[j][i]*pca.explained_variance_ratio_[j]:.2f}')\n",
    "    print()"
   ]
  },
  {
   "cell_type": "code",
   "execution_count": 33,
   "metadata": {},
   "outputs": [],
   "source": [
    "most_important_names = [number_variables[most_important[i]] for i in range(n_pcs)]"
   ]
  },
  {
   "cell_type": "code",
   "execution_count": 34,
   "metadata": {},
   "outputs": [
    {
     "name": "stdout",
     "output_type": "stream",
     "text": [
      "catch_slope |0.28 |0.46\n",
      "sub_permeability |0.16 |0.54\n",
      "baseflow_index |0.11 |0.47\n",
      "res_area |0.10 |0.49\n",
      "aridity_index |0.09 |0.64\n",
      "catch_order |0.06 |0.69\n",
      "sub_porosity |0.05 |0.73\n",
      "dist_coast |0.04 |0.54\n",
      "q_elasticity |0.03 |0.51\n",
      "elev_mean |0.03 |0.60\n",
      "res_area |0.02 |0.57\n",
      "p_seasonality |0.02 |0.56\n",
      "catch_hand |0.01 |0.67\n",
      "catch_slope |0.00 |0.78\n",
      "sub_hconduc |0.00 |0.71\n"
     ]
    }
   ],
   "source": [
    "for i in zip(most_important_names, value,pca.explained_variance_ratio_):\n",
    "    print(i[0], f'|{i[2]:.2f}',f'|{i[1]:.2f}')"
   ]
  }
 ],
 "metadata": {
  "kernelspec": {
   "display_name": "Teste_Gapfilling",
   "language": "python",
   "name": "teste_gapfilling"
  },
  "language_info": {
   "codemirror_mode": {
    "name": "ipython",
    "version": 3
   },
   "file_extension": ".py",
   "mimetype": "text/x-python",
   "name": "python",
   "nbconvert_exporter": "python",
   "pygments_lexer": "ipython3",
   "version": "3.7.6"
  }
 },
 "nbformat": 4,
 "nbformat_minor": 4
}
