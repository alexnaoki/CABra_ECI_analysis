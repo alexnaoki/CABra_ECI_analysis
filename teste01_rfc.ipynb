{
 "cells": [
  {
   "cell_type": "markdown",
   "metadata": {},
   "source": [
    "CABra dataset - **Climate attributes**\n",
    " \n",
    "clim_p, clim_tmin, clim_tmax, clim_rh, clim_wind, and clim_srad are the long-term mean precipiation, minimum and maximum temperature, relative humidity, wind speed, and solar radiation in the catchment.\n",
    "clim_et and clim_pet are the long-term mean actual and potential evapotranspiration in the catchment. clim_pet was calculated with Priestley & Taylor method.\n",
    "aridity_index and p_seasonality are the aridity index and seasonality of precipitation in the catchment.\n",
    "clim_quality is the quality of climate data based on data source: 1 = REF climatology; 2 = ENS climatology."
   ]
  },
  {
   "cell_type": "markdown",
   "metadata": {},
   "source": [
    "CABra dataset - **Streamflow attributes**\n",
    "\n",
    "q is the daily streamflow. \n",
    "q_mean, q_1, q_5, q_95, and q_99 are long-term mean of q, 1st quantile of q (very-low flow), 5th quantile of q (low flow), 95th quantile of q (hig-flow), and 99th quantile of q (very-high flow), respectively.\n",
    "q_lf, q_ld, q_hf, and q_hd are the frequency and duration of low flow and high flow events, respectively. q_zero is the frequency of zero flow. q_hfd is the half-flow day.\n",
    "q_cv, q_lcv, and q_hcv are the coefficient of variation of mean flow, low flow, and high flow, respectively.\n",
    "q_elasticity, fdc_slope, baseflow_index, and runoff_coef are the streamflow elasticity, slope of the flow duration curve, the baseflow index, and the runoff coefficient of the catchment, respectively.\n",
    " "
   ]
  },
  {
   "cell_type": "code",
   "execution_count": 1,
   "metadata": {},
   "outputs": [],
   "source": [
    "import pandas as pd\n",
    "import pathlib\n",
    "import numpy as np\n",
    "import seaborn as sns\n",
    "import matplotlib.pyplot as plt\n",
    "\n",
    "from sklearn.ensemble import RandomForestRegressor\n",
    "from sklearn.ensemble import RandomForestClassifier"
   ]
  },
  {
   "cell_type": "code",
   "execution_count": 23,
   "metadata": {},
   "outputs": [],
   "source": [
    "import geopandas as gpd"
   ]
  },
  {
   "cell_type": "code",
   "execution_count": null,
   "metadata": {},
   "outputs": [],
   "source": []
  },
  {
   "cell_type": "code",
   "execution_count": 2,
   "metadata": {},
   "outputs": [],
   "source": [
    "df_climate = pd.read_csv('CABra_climate_attributes.csv', skiprows=[1])\n",
    "df_streamflow = pd.read_csv('CABra_streamflow_attributes.csv', skiprows=[1])"
   ]
  },
  {
   "cell_type": "code",
   "execution_count": 3,
   "metadata": {},
   "outputs": [],
   "source": [
    "# df_inventario = pd.read_csv('Inventario.csv')"
   ]
  },
  {
   "cell_type": "code",
   "execution_count": 4,
   "metadata": {},
   "outputs": [],
   "source": [
    "# df_inventario.columns"
   ]
  },
  {
   "cell_type": "code",
   "execution_count": 5,
   "metadata": {},
   "outputs": [],
   "source": [
    "# df_inventario.drop_duplicates(subset=['Codigo'], inplace=True)"
   ]
  },
  {
   "cell_type": "code",
   "execution_count": 6,
   "metadata": {},
   "outputs": [
    {
     "data": {
      "text/html": [
       "<div>\n",
       "<style scoped>\n",
       "    .dataframe tbody tr th:only-of-type {\n",
       "        vertical-align: middle;\n",
       "    }\n",
       "\n",
       "    .dataframe tbody tr th {\n",
       "        vertical-align: top;\n",
       "    }\n",
       "\n",
       "    .dataframe thead th {\n",
       "        text-align: right;\n",
       "    }\n",
       "</style>\n",
       "<table border=\"1\" class=\"dataframe\">\n",
       "  <thead>\n",
       "    <tr style=\"text-align: right;\">\n",
       "      <th></th>\n",
       "      <th>CABra ID</th>\n",
       "      <th>ANA ID</th>\n",
       "      <th>clim_p</th>\n",
       "      <th>clim_tmin</th>\n",
       "      <th>clim_tmax</th>\n",
       "      <th>clim_rh</th>\n",
       "      <th>clim_wind</th>\n",
       "      <th>clim_srad</th>\n",
       "      <th>clim_et</th>\n",
       "      <th>clim_pet</th>\n",
       "      <th>aridity_index</th>\n",
       "      <th>p_seasonality</th>\n",
       "      <th>clim_quality</th>\n",
       "    </tr>\n",
       "  </thead>\n",
       "  <tbody>\n",
       "    <tr>\n",
       "      <th>0</th>\n",
       "      <td>1</td>\n",
       "      <td>13880000</td>\n",
       "      <td>5.64</td>\n",
       "      <td>21.61</td>\n",
       "      <td>30.48</td>\n",
       "      <td>83.17</td>\n",
       "      <td>0.82</td>\n",
       "      <td>16.42</td>\n",
       "      <td>3.87</td>\n",
       "      <td>5.04</td>\n",
       "      <td>0.89</td>\n",
       "      <td>0.46</td>\n",
       "      <td>2</td>\n",
       "    </tr>\n",
       "    <tr>\n",
       "      <th>1</th>\n",
       "      <td>2</td>\n",
       "      <td>14110000</td>\n",
       "      <td>8.88</td>\n",
       "      <td>21.83</td>\n",
       "      <td>28.60</td>\n",
       "      <td>86.41</td>\n",
       "      <td>0.42</td>\n",
       "      <td>16.24</td>\n",
       "      <td>4.29</td>\n",
       "      <td>4.96</td>\n",
       "      <td>0.56</td>\n",
       "      <td>-0.28</td>\n",
       "      <td>2</td>\n",
       "    </tr>\n",
       "    <tr>\n",
       "      <th>2</th>\n",
       "      <td>3</td>\n",
       "      <td>14230000</td>\n",
       "      <td>8.52</td>\n",
       "      <td>22.18</td>\n",
       "      <td>29.67</td>\n",
       "      <td>85.71</td>\n",
       "      <td>0.60</td>\n",
       "      <td>15.60</td>\n",
       "      <td>4.28</td>\n",
       "      <td>4.81</td>\n",
       "      <td>0.56</td>\n",
       "      <td>-0.27</td>\n",
       "      <td>2</td>\n",
       "    </tr>\n",
       "    <tr>\n",
       "      <th>3</th>\n",
       "      <td>4</td>\n",
       "      <td>14250000</td>\n",
       "      <td>8.86</td>\n",
       "      <td>22.00</td>\n",
       "      <td>29.13</td>\n",
       "      <td>86.26</td>\n",
       "      <td>0.49</td>\n",
       "      <td>15.99</td>\n",
       "      <td>4.29</td>\n",
       "      <td>4.90</td>\n",
       "      <td>0.55</td>\n",
       "      <td>-0.26</td>\n",
       "      <td>2</td>\n",
       "    </tr>\n",
       "    <tr>\n",
       "      <th>4</th>\n",
       "      <td>5</td>\n",
       "      <td>14260000</td>\n",
       "      <td>7.79</td>\n",
       "      <td>21.91</td>\n",
       "      <td>28.80</td>\n",
       "      <td>85.44</td>\n",
       "      <td>0.67</td>\n",
       "      <td>16.14</td>\n",
       "      <td>4.21</td>\n",
       "      <td>4.94</td>\n",
       "      <td>0.63</td>\n",
       "      <td>-0.27</td>\n",
       "      <td>2</td>\n",
       "    </tr>\n",
       "  </tbody>\n",
       "</table>\n",
       "</div>"
      ],
      "text/plain": [
       "   CABra ID    ANA ID  clim_p  clim_tmin  clim_tmax  clim_rh  clim_wind  \\\n",
       "0         1  13880000    5.64      21.61      30.48    83.17       0.82   \n",
       "1         2  14110000    8.88      21.83      28.60    86.41       0.42   \n",
       "2         3  14230000    8.52      22.18      29.67    85.71       0.60   \n",
       "3         4  14250000    8.86      22.00      29.13    86.26       0.49   \n",
       "4         5  14260000    7.79      21.91      28.80    85.44       0.67   \n",
       "\n",
       "   clim_srad  clim_et  clim_pet  aridity_index  p_seasonality  clim_quality  \n",
       "0      16.42     3.87      5.04           0.89           0.46             2  \n",
       "1      16.24     4.29      4.96           0.56          -0.28             2  \n",
       "2      15.60     4.28      4.81           0.56          -0.27             2  \n",
       "3      15.99     4.29      4.90           0.55          -0.26             2  \n",
       "4      16.14     4.21      4.94           0.63          -0.27             2  "
      ]
     },
     "execution_count": 6,
     "metadata": {},
     "output_type": "execute_result"
    }
   ],
   "source": [
    "df_climate.head()"
   ]
  },
  {
   "cell_type": "code",
   "execution_count": 7,
   "metadata": {},
   "outputs": [
    {
     "data": {
      "text/plain": [
       "Index(['CABra ID', 'ANA ID', 'clim_p', 'clim_tmin', 'clim_tmax', 'clim_rh',\n",
       "       'clim_wind', 'clim_srad', 'clim_et', 'clim_pet', 'aridity_index',\n",
       "       'p_seasonality', 'clim_quality'],\n",
       "      dtype='object')"
      ]
     },
     "execution_count": 7,
     "metadata": {},
     "output_type": "execute_result"
    }
   ],
   "source": [
    "df_climate.columns"
   ]
  },
  {
   "cell_type": "code",
   "execution_count": 8,
   "metadata": {},
   "outputs": [
    {
     "data": {
      "text/html": [
       "<div>\n",
       "<style scoped>\n",
       "    .dataframe tbody tr th:only-of-type {\n",
       "        vertical-align: middle;\n",
       "    }\n",
       "\n",
       "    .dataframe tbody tr th {\n",
       "        vertical-align: top;\n",
       "    }\n",
       "\n",
       "    .dataframe thead th {\n",
       "        text-align: right;\n",
       "    }\n",
       "</style>\n",
       "<table border=\"1\" class=\"dataframe\">\n",
       "  <thead>\n",
       "    <tr style=\"text-align: right;\">\n",
       "      <th></th>\n",
       "      <th>CABra ID</th>\n",
       "      <th>ANA ID</th>\n",
       "      <th>q_mean</th>\n",
       "      <th>q_1</th>\n",
       "      <th>q_5</th>\n",
       "      <th>q_95</th>\n",
       "      <th>q_99</th>\n",
       "      <th>q_lf</th>\n",
       "      <th>q_ld</th>\n",
       "      <th>q_hf</th>\n",
       "      <th>q_hd</th>\n",
       "      <th>q_hfd</th>\n",
       "      <th>q_zero</th>\n",
       "      <th>q_cv</th>\n",
       "      <th>q_lcv</th>\n",
       "      <th>q_hcv</th>\n",
       "      <th>q_elasticity</th>\n",
       "      <th>fdc_slope</th>\n",
       "      <th>baseflow_index</th>\n",
       "      <th>runoff_coef</th>\n",
       "    </tr>\n",
       "  </thead>\n",
       "  <tbody>\n",
       "    <tr>\n",
       "      <th>0</th>\n",
       "      <td>1</td>\n",
       "      <td>13880000</td>\n",
       "      <td>2.25</td>\n",
       "      <td>0.34</td>\n",
       "      <td>0.39</td>\n",
       "      <td>4.52</td>\n",
       "      <td>4.64</td>\n",
       "      <td>19</td>\n",
       "      <td>38</td>\n",
       "      <td>0</td>\n",
       "      <td>0</td>\n",
       "      <td>181</td>\n",
       "      <td>0</td>\n",
       "      <td>0.08</td>\n",
       "      <td>0.11</td>\n",
       "      <td>0.04</td>\n",
       "      <td>0.36</td>\n",
       "      <td>-4.42</td>\n",
       "      <td>93.22</td>\n",
       "      <td>0.40</td>\n",
       "    </tr>\n",
       "    <tr>\n",
       "      <th>1</th>\n",
       "      <td>2</td>\n",
       "      <td>14110000</td>\n",
       "      <td>5.60</td>\n",
       "      <td>0.67</td>\n",
       "      <td>1.16</td>\n",
       "      <td>11.17</td>\n",
       "      <td>11.96</td>\n",
       "      <td>15</td>\n",
       "      <td>20</td>\n",
       "      <td>0</td>\n",
       "      <td>0</td>\n",
       "      <td>248</td>\n",
       "      <td>0</td>\n",
       "      <td>0.11</td>\n",
       "      <td>0.62</td>\n",
       "      <td>0.11</td>\n",
       "      <td>0.97</td>\n",
       "      <td>-1.93</td>\n",
       "      <td>90.46</td>\n",
       "      <td>0.63</td>\n",
       "    </tr>\n",
       "    <tr>\n",
       "      <th>2</th>\n",
       "      <td>3</td>\n",
       "      <td>14230000</td>\n",
       "      <td>6.69</td>\n",
       "      <td>1.24</td>\n",
       "      <td>2.12</td>\n",
       "      <td>12.42</td>\n",
       "      <td>14.16</td>\n",
       "      <td>4</td>\n",
       "      <td>9</td>\n",
       "      <td>0</td>\n",
       "      <td>0</td>\n",
       "      <td>238</td>\n",
       "      <td>0</td>\n",
       "      <td>0.08</td>\n",
       "      <td>0.46</td>\n",
       "      <td>0.09</td>\n",
       "      <td>1.08</td>\n",
       "      <td>-1.58</td>\n",
       "      <td>88.67</td>\n",
       "      <td>0.79</td>\n",
       "    </tr>\n",
       "    <tr>\n",
       "      <th>3</th>\n",
       "      <td>4</td>\n",
       "      <td>14250000</td>\n",
       "      <td>5.72</td>\n",
       "      <td>1.03</td>\n",
       "      <td>1.72</td>\n",
       "      <td>10.63</td>\n",
       "      <td>11.77</td>\n",
       "      <td>4</td>\n",
       "      <td>9</td>\n",
       "      <td>0</td>\n",
       "      <td>0</td>\n",
       "      <td>242</td>\n",
       "      <td>0</td>\n",
       "      <td>0.10</td>\n",
       "      <td>0.50</td>\n",
       "      <td>0.10</td>\n",
       "      <td>0.89</td>\n",
       "      <td>-1.68</td>\n",
       "      <td>91.42</td>\n",
       "      <td>0.65</td>\n",
       "    </tr>\n",
       "    <tr>\n",
       "      <th>4</th>\n",
       "      <td>5</td>\n",
       "      <td>14260000</td>\n",
       "      <td>5.06</td>\n",
       "      <td>0.43</td>\n",
       "      <td>1.09</td>\n",
       "      <td>9.91</td>\n",
       "      <td>11.83</td>\n",
       "      <td>14</td>\n",
       "      <td>14</td>\n",
       "      <td>0</td>\n",
       "      <td>0</td>\n",
       "      <td>243</td>\n",
       "      <td>0</td>\n",
       "      <td>0.09</td>\n",
       "      <td>0.55</td>\n",
       "      <td>0.13</td>\n",
       "      <td>0.55</td>\n",
       "      <td>-1.79</td>\n",
       "      <td>88.12</td>\n",
       "      <td>0.65</td>\n",
       "    </tr>\n",
       "  </tbody>\n",
       "</table>\n",
       "</div>"
      ],
      "text/plain": [
       "   CABra ID    ANA ID  q_mean   q_1   q_5   q_95   q_99  q_lf  q_ld  q_hf  \\\n",
       "0         1  13880000    2.25  0.34  0.39   4.52   4.64    19    38     0   \n",
       "1         2  14110000    5.60  0.67  1.16  11.17  11.96    15    20     0   \n",
       "2         3  14230000    6.69  1.24  2.12  12.42  14.16     4     9     0   \n",
       "3         4  14250000    5.72  1.03  1.72  10.63  11.77     4     9     0   \n",
       "4         5  14260000    5.06  0.43  1.09   9.91  11.83    14    14     0   \n",
       "\n",
       "   q_hd  q_hfd  q_zero  q_cv      q_lcv  q_hcv  q_elasticity  \\\n",
       "0     0    181       0  0.08       0.11   0.04          0.36   \n",
       "1     0    248       0  0.11       0.62   0.11          0.97   \n",
       "2     0    238       0  0.08       0.46   0.09          1.08   \n",
       "3     0    242       0  0.10       0.50   0.10          0.89   \n",
       "4     0    243       0  0.09       0.55   0.13          0.55   \n",
       "\n",
       "          fdc_slope  baseflow_index  runoff_coef  \n",
       "0             -4.42           93.22         0.40  \n",
       "1             -1.93           90.46         0.63  \n",
       "2             -1.58           88.67         0.79  \n",
       "3             -1.68           91.42         0.65  \n",
       "4             -1.79           88.12         0.65  "
      ]
     },
     "execution_count": 8,
     "metadata": {},
     "output_type": "execute_result"
    }
   ],
   "source": [
    "df_streamflow.head()"
   ]
  },
  {
   "cell_type": "code",
   "execution_count": 9,
   "metadata": {},
   "outputs": [
    {
     "data": {
      "text/plain": [
       "Index(['CABra ID', 'ANA ID', 'q_mean', 'q_1', 'q_5', 'q_95', 'q_99', 'q_lf',\n",
       "       'q_ld', 'q_hf', 'q_hd', 'q_hfd', 'q_zero', 'q_cv', 'q_lcv', 'q_hcv',\n",
       "       'q_elasticity', 'fdc_slope', 'baseflow_index', 'runoff_coef'],\n",
       "      dtype='object')"
      ]
     },
     "execution_count": 9,
     "metadata": {},
     "output_type": "execute_result"
    }
   ],
   "source": [
    "df_streamflow.columns"
   ]
  },
  {
   "cell_type": "code",
   "execution_count": 10,
   "metadata": {},
   "outputs": [],
   "source": [
    "variables = ['aridity_index', 'baseflow_index', 'p_seasonality']"
   ]
  },
  {
   "cell_type": "code",
   "execution_count": 11,
   "metadata": {},
   "outputs": [],
   "source": [
    "df = pd.merge(left=df_climate, right=df_streamflow, on='CABra ID')"
   ]
  },
  {
   "cell_type": "code",
   "execution_count": 12,
   "metadata": {},
   "outputs": [
    {
     "data": {
      "text/html": [
       "<div>\n",
       "<style scoped>\n",
       "    .dataframe tbody tr th:only-of-type {\n",
       "        vertical-align: middle;\n",
       "    }\n",
       "\n",
       "    .dataframe tbody tr th {\n",
       "        vertical-align: top;\n",
       "    }\n",
       "\n",
       "    .dataframe thead th {\n",
       "        text-align: right;\n",
       "    }\n",
       "</style>\n",
       "<table border=\"1\" class=\"dataframe\">\n",
       "  <thead>\n",
       "    <tr style=\"text-align: right;\">\n",
       "      <th></th>\n",
       "      <th>CABra ID</th>\n",
       "      <th>ANA ID_x</th>\n",
       "      <th>clim_p</th>\n",
       "      <th>clim_tmin</th>\n",
       "      <th>clim_tmax</th>\n",
       "      <th>clim_rh</th>\n",
       "      <th>clim_wind</th>\n",
       "      <th>clim_srad</th>\n",
       "      <th>clim_et</th>\n",
       "      <th>clim_pet</th>\n",
       "      <th>...</th>\n",
       "      <th>q_hd</th>\n",
       "      <th>q_hfd</th>\n",
       "      <th>q_zero</th>\n",
       "      <th>q_cv</th>\n",
       "      <th>q_lcv</th>\n",
       "      <th>q_hcv</th>\n",
       "      <th>q_elasticity</th>\n",
       "      <th>fdc_slope</th>\n",
       "      <th>baseflow_index</th>\n",
       "      <th>runoff_coef</th>\n",
       "    </tr>\n",
       "  </thead>\n",
       "  <tbody>\n",
       "    <tr>\n",
       "      <th>0</th>\n",
       "      <td>1</td>\n",
       "      <td>13880000</td>\n",
       "      <td>5.64</td>\n",
       "      <td>21.61</td>\n",
       "      <td>30.48</td>\n",
       "      <td>83.17</td>\n",
       "      <td>0.82</td>\n",
       "      <td>16.42</td>\n",
       "      <td>3.87</td>\n",
       "      <td>5.04</td>\n",
       "      <td>...</td>\n",
       "      <td>0</td>\n",
       "      <td>181</td>\n",
       "      <td>0</td>\n",
       "      <td>0.08</td>\n",
       "      <td>0.11</td>\n",
       "      <td>0.04</td>\n",
       "      <td>0.36</td>\n",
       "      <td>-4.42</td>\n",
       "      <td>93.22</td>\n",
       "      <td>0.40</td>\n",
       "    </tr>\n",
       "    <tr>\n",
       "      <th>1</th>\n",
       "      <td>2</td>\n",
       "      <td>14110000</td>\n",
       "      <td>8.88</td>\n",
       "      <td>21.83</td>\n",
       "      <td>28.60</td>\n",
       "      <td>86.41</td>\n",
       "      <td>0.42</td>\n",
       "      <td>16.24</td>\n",
       "      <td>4.29</td>\n",
       "      <td>4.96</td>\n",
       "      <td>...</td>\n",
       "      <td>0</td>\n",
       "      <td>248</td>\n",
       "      <td>0</td>\n",
       "      <td>0.11</td>\n",
       "      <td>0.62</td>\n",
       "      <td>0.11</td>\n",
       "      <td>0.97</td>\n",
       "      <td>-1.93</td>\n",
       "      <td>90.46</td>\n",
       "      <td>0.63</td>\n",
       "    </tr>\n",
       "    <tr>\n",
       "      <th>2</th>\n",
       "      <td>3</td>\n",
       "      <td>14230000</td>\n",
       "      <td>8.52</td>\n",
       "      <td>22.18</td>\n",
       "      <td>29.67</td>\n",
       "      <td>85.71</td>\n",
       "      <td>0.60</td>\n",
       "      <td>15.60</td>\n",
       "      <td>4.28</td>\n",
       "      <td>4.81</td>\n",
       "      <td>...</td>\n",
       "      <td>0</td>\n",
       "      <td>238</td>\n",
       "      <td>0</td>\n",
       "      <td>0.08</td>\n",
       "      <td>0.46</td>\n",
       "      <td>0.09</td>\n",
       "      <td>1.08</td>\n",
       "      <td>-1.58</td>\n",
       "      <td>88.67</td>\n",
       "      <td>0.79</td>\n",
       "    </tr>\n",
       "    <tr>\n",
       "      <th>3</th>\n",
       "      <td>4</td>\n",
       "      <td>14250000</td>\n",
       "      <td>8.86</td>\n",
       "      <td>22.00</td>\n",
       "      <td>29.13</td>\n",
       "      <td>86.26</td>\n",
       "      <td>0.49</td>\n",
       "      <td>15.99</td>\n",
       "      <td>4.29</td>\n",
       "      <td>4.90</td>\n",
       "      <td>...</td>\n",
       "      <td>0</td>\n",
       "      <td>242</td>\n",
       "      <td>0</td>\n",
       "      <td>0.10</td>\n",
       "      <td>0.50</td>\n",
       "      <td>0.10</td>\n",
       "      <td>0.89</td>\n",
       "      <td>-1.68</td>\n",
       "      <td>91.42</td>\n",
       "      <td>0.65</td>\n",
       "    </tr>\n",
       "    <tr>\n",
       "      <th>4</th>\n",
       "      <td>5</td>\n",
       "      <td>14260000</td>\n",
       "      <td>7.79</td>\n",
       "      <td>21.91</td>\n",
       "      <td>28.80</td>\n",
       "      <td>85.44</td>\n",
       "      <td>0.67</td>\n",
       "      <td>16.14</td>\n",
       "      <td>4.21</td>\n",
       "      <td>4.94</td>\n",
       "      <td>...</td>\n",
       "      <td>0</td>\n",
       "      <td>243</td>\n",
       "      <td>0</td>\n",
       "      <td>0.09</td>\n",
       "      <td>0.55</td>\n",
       "      <td>0.13</td>\n",
       "      <td>0.55</td>\n",
       "      <td>-1.79</td>\n",
       "      <td>88.12</td>\n",
       "      <td>0.65</td>\n",
       "    </tr>\n",
       "  </tbody>\n",
       "</table>\n",
       "<p>5 rows × 32 columns</p>\n",
       "</div>"
      ],
      "text/plain": [
       "   CABra ID  ANA ID_x  clim_p  clim_tmin  clim_tmax  clim_rh  clim_wind  \\\n",
       "0         1  13880000    5.64      21.61      30.48    83.17       0.82   \n",
       "1         2  14110000    8.88      21.83      28.60    86.41       0.42   \n",
       "2         3  14230000    8.52      22.18      29.67    85.71       0.60   \n",
       "3         4  14250000    8.86      22.00      29.13    86.26       0.49   \n",
       "4         5  14260000    7.79      21.91      28.80    85.44       0.67   \n",
       "\n",
       "   clim_srad  clim_et  clim_pet  ...  q_hd  q_hfd  q_zero  q_cv      q_lcv  \\\n",
       "0      16.42     3.87      5.04  ...     0    181       0  0.08       0.11   \n",
       "1      16.24     4.29      4.96  ...     0    248       0  0.11       0.62   \n",
       "2      15.60     4.28      4.81  ...     0    238       0  0.08       0.46   \n",
       "3      15.99     4.29      4.90  ...     0    242       0  0.10       0.50   \n",
       "4      16.14     4.21      4.94  ...     0    243       0  0.09       0.55   \n",
       "\n",
       "   q_hcv  q_elasticity         fdc_slope  baseflow_index  runoff_coef  \n",
       "0   0.04          0.36             -4.42           93.22         0.40  \n",
       "1   0.11          0.97             -1.93           90.46         0.63  \n",
       "2   0.09          1.08             -1.58           88.67         0.79  \n",
       "3   0.10          0.89             -1.68           91.42         0.65  \n",
       "4   0.13          0.55             -1.79           88.12         0.65  \n",
       "\n",
       "[5 rows x 32 columns]"
      ]
     },
     "execution_count": 12,
     "metadata": {},
     "output_type": "execute_result"
    }
   ],
   "source": [
    "df.head()"
   ]
  },
  {
   "cell_type": "code",
   "execution_count": 13,
   "metadata": {},
   "outputs": [],
   "source": [
    "# df = pd.merge(left=df, right=df_inventario[['Codigo', 'AreaDrenagem']], left_on='ANA ID_x', right_on='Codigo')"
   ]
  },
  {
   "cell_type": "code",
   "execution_count": 14,
   "metadata": {},
   "outputs": [],
   "source": [
    "# df.loc[df['AreaDrenagem'].isnull()]"
   ]
  },
  {
   "cell_type": "code",
   "execution_count": 15,
   "metadata": {},
   "outputs": [
    {
     "name": "stderr",
     "output_type": "stream",
     "text": [
      "C:\\Users\\User\\anaconda3\\envs\\Teste_ML\\lib\\site-packages\\pandas\\core\\series.py:726: RuntimeWarning: invalid value encountered in log\n",
      "  result = getattr(ufunc, method)(*inputs, **kwargs)\n"
     ]
    }
   ],
   "source": [
    "df['ECI'] = np.log(df['q_mean']/(df['clim_p']-df['clim_et']))"
   ]
  },
  {
   "cell_type": "code",
   "execution_count": 16,
   "metadata": {},
   "outputs": [],
   "source": [
    "df['Aeff/Atopo'] = df['q_mean']/(df['clim_p']-df['clim_et'])"
   ]
  },
  {
   "cell_type": "code",
   "execution_count": 17,
   "metadata": {},
   "outputs": [
    {
     "data": {
      "text/html": [
       "<div>\n",
       "<style scoped>\n",
       "    .dataframe tbody tr th:only-of-type {\n",
       "        vertical-align: middle;\n",
       "    }\n",
       "\n",
       "    .dataframe tbody tr th {\n",
       "        vertical-align: top;\n",
       "    }\n",
       "\n",
       "    .dataframe thead th {\n",
       "        text-align: right;\n",
       "    }\n",
       "</style>\n",
       "<table border=\"1\" class=\"dataframe\">\n",
       "  <thead>\n",
       "    <tr style=\"text-align: right;\">\n",
       "      <th></th>\n",
       "      <th>Aeff/Atopo</th>\n",
       "      <th>ECI</th>\n",
       "    </tr>\n",
       "  </thead>\n",
       "  <tbody>\n",
       "    <tr>\n",
       "      <th>count</th>\n",
       "      <td>735.000000</td>\n",
       "      <td>734.000000</td>\n",
       "    </tr>\n",
       "    <tr>\n",
       "      <th>mean</th>\n",
       "      <td>1.033062</td>\n",
       "      <td>-0.057251</td>\n",
       "    </tr>\n",
       "    <tr>\n",
       "      <th>std</th>\n",
       "      <td>0.472764</td>\n",
       "      <td>0.461552</td>\n",
       "    </tr>\n",
       "    <tr>\n",
       "      <th>min</th>\n",
       "      <td>-1.500000</td>\n",
       "      <td>-2.277267</td>\n",
       "    </tr>\n",
       "    <tr>\n",
       "      <th>25%</th>\n",
       "      <td>0.812509</td>\n",
       "      <td>-0.205516</td>\n",
       "    </tr>\n",
       "    <tr>\n",
       "      <th>50%</th>\n",
       "      <td>1.006250</td>\n",
       "      <td>0.006505</td>\n",
       "    </tr>\n",
       "    <tr>\n",
       "      <th>75%</th>\n",
       "      <td>1.196199</td>\n",
       "      <td>0.179199</td>\n",
       "    </tr>\n",
       "    <tr>\n",
       "      <th>max</th>\n",
       "      <td>6.781955</td>\n",
       "      <td>1.914265</td>\n",
       "    </tr>\n",
       "  </tbody>\n",
       "</table>\n",
       "</div>"
      ],
      "text/plain": [
       "       Aeff/Atopo         ECI\n",
       "count  735.000000  734.000000\n",
       "mean     1.033062   -0.057251\n",
       "std      0.472764    0.461552\n",
       "min     -1.500000   -2.277267\n",
       "25%      0.812509   -0.205516\n",
       "50%      1.006250    0.006505\n",
       "75%      1.196199    0.179199\n",
       "max      6.781955    1.914265"
      ]
     },
     "execution_count": 17,
     "metadata": {},
     "output_type": "execute_result"
    }
   ],
   "source": [
    "df[['Aeff/Atopo','ECI']].describe()"
   ]
  },
  {
   "cell_type": "code",
   "execution_count": 18,
   "metadata": {},
   "outputs": [],
   "source": [
    "df.loc[df['Aeff/Atopo']>=2, 'substantial'] = 'gaining'\n",
    "df.loc[(df['Aeff/Atopo']<2)&(df['Aeff/Atopo']>1), 'substantial'] = 'na'\n",
    "df.loc[(df['Aeff/Atopo']>0.5)&(df['Aeff/Atopo']<=1), 'substantial'] = 'na'\n",
    "df.loc[df['Aeff/Atopo']<=0.5, 'substantial'] = 'losing'"
   ]
  },
  {
   "cell_type": "code",
   "execution_count": 19,
   "metadata": {},
   "outputs": [
    {
     "data": {
      "text/plain": [
       "<seaborn.axisgrid.FacetGrid at 0x28b8ff02248>"
      ]
     },
     "execution_count": 19,
     "metadata": {},
     "output_type": "execute_result"
    },
    {
     "data": {
      "image/png": "[encoded data removed]",
      "text/plain": [
       "<Figure size 360x360 with 1 Axes>"
      ]
     },
     "metadata": {
      "needs_background": "light"
     },
     "output_type": "display_data"
    }
   ],
   "source": [
    "sns.displot(df, x='Aeff/Atopo', bins=20)"
   ]
  },
  {
   "cell_type": "code",
   "execution_count": 20,
   "metadata": {},
   "outputs": [
    {
     "data": {
      "text/plain": [
       "<matplotlib.axes._subplots.AxesSubplot at 0x28b9071fe88>"
      ]
     },
     "execution_count": 20,
     "metadata": {},
     "output_type": "execute_result"
    },
    {
     "data": {
      "image/png": "[encoded data removed]",
      "text/plain": [
       "<Figure size 432x288 with 1 Axes>"
      ]
     },
     "metadata": {
      "needs_background": "light"
     },
     "output_type": "display_data"
    }
   ],
   "source": [
    "sns.scatterplot(x='aridity_index', y='ECI', hue='substantial',data=df)"
   ]
  },
  {
   "cell_type": "code",
   "execution_count": 21,
   "metadata": {},
   "outputs": [
    {
     "ename": "ValueError",
     "evalue": "Could not interpret value `AreaDrenagem` for parameter `x`",
     "output_type": "error",
     "traceback": [
      "\u001b[1;31m---------------------------------------------------------------------------\u001b[0m",
      "\u001b[1;31mValueError\u001b[0m                                Traceback (most recent call last)",
      "\u001b[1;32m<ipython-input-21-5d4026d0a2b5>\u001b[0m in \u001b[0;36m<module>\u001b[1;34m\u001b[0m\n\u001b[1;32m----> 1\u001b[1;33m \u001b[0msns\u001b[0m\u001b[1;33m.\u001b[0m\u001b[0mscatterplot\u001b[0m\u001b[1;33m(\u001b[0m\u001b[0mx\u001b[0m\u001b[1;33m=\u001b[0m\u001b[1;34m'AreaDrenagem'\u001b[0m\u001b[1;33m,\u001b[0m \u001b[0my\u001b[0m\u001b[1;33m=\u001b[0m\u001b[1;34m'ECI'\u001b[0m\u001b[1;33m,\u001b[0m \u001b[0mhue\u001b[0m\u001b[1;33m=\u001b[0m\u001b[1;34m'substantial'\u001b[0m\u001b[1;33m,\u001b[0m \u001b[0mdata\u001b[0m\u001b[1;33m=\u001b[0m\u001b[0mdf\u001b[0m\u001b[1;33m)\u001b[0m\u001b[1;33m\u001b[0m\u001b[1;33m\u001b[0m\u001b[0m\n\u001b[0m\u001b[0;32m      2\u001b[0m \u001b[0mplt\u001b[0m\u001b[1;33m.\u001b[0m\u001b[0mxlim\u001b[0m\u001b[1;33m(\u001b[0m\u001b[1;33m(\u001b[0m\u001b[1;36m1e0\u001b[0m\u001b[1;33m,\u001b[0m\u001b[1;36m1e5\u001b[0m\u001b[1;33m)\u001b[0m\u001b[1;33m)\u001b[0m\u001b[1;33m\u001b[0m\u001b[1;33m\u001b[0m\u001b[0m\n",
      "\u001b[1;32m~\\anaconda3\\envs\\Teste_ML\\lib\\site-packages\\seaborn\\_decorators.py\u001b[0m in \u001b[0;36minner_f\u001b[1;34m(*args, **kwargs)\u001b[0m\n\u001b[0;32m     44\u001b[0m             )\n\u001b[0;32m     45\u001b[0m         \u001b[0mkwargs\u001b[0m\u001b[1;33m.\u001b[0m\u001b[0mupdate\u001b[0m\u001b[1;33m(\u001b[0m\u001b[1;33m{\u001b[0m\u001b[0mk\u001b[0m\u001b[1;33m:\u001b[0m \u001b[0marg\u001b[0m \u001b[1;32mfor\u001b[0m \u001b[0mk\u001b[0m\u001b[1;33m,\u001b[0m \u001b[0marg\u001b[0m \u001b[1;32min\u001b[0m \u001b[0mzip\u001b[0m\u001b[1;33m(\u001b[0m\u001b[0msig\u001b[0m\u001b[1;33m.\u001b[0m\u001b[0mparameters\u001b[0m\u001b[1;33m,\u001b[0m \u001b[0margs\u001b[0m\u001b[1;33m)\u001b[0m\u001b[1;33m}\u001b[0m\u001b[1;33m)\u001b[0m\u001b[1;33m\u001b[0m\u001b[1;33m\u001b[0m\u001b[0m\n\u001b[1;32m---> 46\u001b[1;33m         \u001b[1;32mreturn\u001b[0m \u001b[0mf\u001b[0m\u001b[1;33m(\u001b[0m\u001b[1;33m**\u001b[0m\u001b[0mkwargs\u001b[0m\u001b[1;33m)\u001b[0m\u001b[1;33m\u001b[0m\u001b[1;33m\u001b[0m\u001b[0m\n\u001b[0m\u001b[0;32m     47\u001b[0m     \u001b[1;32mreturn\u001b[0m \u001b[0minner_f\u001b[0m\u001b[1;33m\u001b[0m\u001b[1;33m\u001b[0m\u001b[0m\n\u001b[0;32m     48\u001b[0m \u001b[1;33m\u001b[0m\u001b[0m\n",
      "\u001b[1;32m~\\anaconda3\\envs\\Teste_ML\\lib\\site-packages\\seaborn\\relational.py\u001b[0m in \u001b[0;36mscatterplot\u001b[1;34m(x, y, hue, style, size, data, palette, hue_order, hue_norm, sizes, size_order, size_norm, markers, style_order, x_bins, y_bins, units, estimator, ci, n_boot, alpha, x_jitter, y_jitter, legend, ax, **kwargs)\u001b[0m\n\u001b[0;32m    796\u001b[0m         \u001b[0mx_bins\u001b[0m\u001b[1;33m=\u001b[0m\u001b[0mx_bins\u001b[0m\u001b[1;33m,\u001b[0m \u001b[0my_bins\u001b[0m\u001b[1;33m=\u001b[0m\u001b[0my_bins\u001b[0m\u001b[1;33m,\u001b[0m\u001b[1;33m\u001b[0m\u001b[1;33m\u001b[0m\u001b[0m\n\u001b[0;32m    797\u001b[0m         \u001b[0mestimator\u001b[0m\u001b[1;33m=\u001b[0m\u001b[0mestimator\u001b[0m\u001b[1;33m,\u001b[0m \u001b[0mci\u001b[0m\u001b[1;33m=\u001b[0m\u001b[0mci\u001b[0m\u001b[1;33m,\u001b[0m \u001b[0mn_boot\u001b[0m\u001b[1;33m=\u001b[0m\u001b[0mn_boot\u001b[0m\u001b[1;33m,\u001b[0m\u001b[1;33m\u001b[0m\u001b[1;33m\u001b[0m\u001b[0m\n\u001b[1;32m--> 798\u001b[1;33m         \u001b[0malpha\u001b[0m\u001b[1;33m=\u001b[0m\u001b[0malpha\u001b[0m\u001b[1;33m,\u001b[0m \u001b[0mx_jitter\u001b[0m\u001b[1;33m=\u001b[0m\u001b[0mx_jitter\u001b[0m\u001b[1;33m,\u001b[0m \u001b[0my_jitter\u001b[0m\u001b[1;33m=\u001b[0m\u001b[0my_jitter\u001b[0m\u001b[1;33m,\u001b[0m \u001b[0mlegend\u001b[0m\u001b[1;33m=\u001b[0m\u001b[0mlegend\u001b[0m\u001b[1;33m,\u001b[0m\u001b[1;33m\u001b[0m\u001b[1;33m\u001b[0m\u001b[0m\n\u001b[0m\u001b[0;32m    799\u001b[0m     )\n\u001b[0;32m    800\u001b[0m \u001b[1;33m\u001b[0m\u001b[0m\n",
      "\u001b[1;32m~\\anaconda3\\envs\\Teste_ML\\lib\\site-packages\\seaborn\\relational.py\u001b[0m in \u001b[0;36m__init__\u001b[1;34m(self, data, variables, x_bins, y_bins, estimator, ci, n_boot, alpha, x_jitter, y_jitter, legend)\u001b[0m\n\u001b[0;32m    578\u001b[0m         )\n\u001b[0;32m    579\u001b[0m \u001b[1;33m\u001b[0m\u001b[0m\n\u001b[1;32m--> 580\u001b[1;33m         \u001b[0msuper\u001b[0m\u001b[1;33m(\u001b[0m\u001b[1;33m)\u001b[0m\u001b[1;33m.\u001b[0m\u001b[0m__init__\u001b[0m\u001b[1;33m(\u001b[0m\u001b[0mdata\u001b[0m\u001b[1;33m=\u001b[0m\u001b[0mdata\u001b[0m\u001b[1;33m,\u001b[0m \u001b[0mvariables\u001b[0m\u001b[1;33m=\u001b[0m\u001b[0mvariables\u001b[0m\u001b[1;33m)\u001b[0m\u001b[1;33m\u001b[0m\u001b[1;33m\u001b[0m\u001b[0m\n\u001b[0m\u001b[0;32m    581\u001b[0m \u001b[1;33m\u001b[0m\u001b[0m\n\u001b[0;32m    582\u001b[0m         \u001b[0mself\u001b[0m\u001b[1;33m.\u001b[0m\u001b[0malpha\u001b[0m \u001b[1;33m=\u001b[0m \u001b[0malpha\u001b[0m\u001b[1;33m\u001b[0m\u001b[1;33m\u001b[0m\u001b[0m\n",
      "\u001b[1;32m~\\anaconda3\\envs\\Teste_ML\\lib\\site-packages\\seaborn\\_core.py\u001b[0m in \u001b[0;36m__init__\u001b[1;34m(self, data, variables)\u001b[0m\n\u001b[0;32m    602\u001b[0m     \u001b[1;32mdef\u001b[0m \u001b[0m__init__\u001b[0m\u001b[1;33m(\u001b[0m\u001b[0mself\u001b[0m\u001b[1;33m,\u001b[0m \u001b[0mdata\u001b[0m\u001b[1;33m=\u001b[0m\u001b[1;32mNone\u001b[0m\u001b[1;33m,\u001b[0m \u001b[0mvariables\u001b[0m\u001b[1;33m=\u001b[0m\u001b[1;33m{\u001b[0m\u001b[1;33m}\u001b[0m\u001b[1;33m)\u001b[0m\u001b[1;33m:\u001b[0m\u001b[1;33m\u001b[0m\u001b[1;33m\u001b[0m\u001b[0m\n\u001b[0;32m    603\u001b[0m \u001b[1;33m\u001b[0m\u001b[0m\n\u001b[1;32m--> 604\u001b[1;33m         \u001b[0mself\u001b[0m\u001b[1;33m.\u001b[0m\u001b[0massign_variables\u001b[0m\u001b[1;33m(\u001b[0m\u001b[0mdata\u001b[0m\u001b[1;33m,\u001b[0m \u001b[0mvariables\u001b[0m\u001b[1;33m)\u001b[0m\u001b[1;33m\u001b[0m\u001b[1;33m\u001b[0m\u001b[0m\n\u001b[0m\u001b[0;32m    605\u001b[0m \u001b[1;33m\u001b[0m\u001b[0m\n\u001b[0;32m    606\u001b[0m         \u001b[1;32mfor\u001b[0m \u001b[0mvar\u001b[0m\u001b[1;33m,\u001b[0m \u001b[0mcls\u001b[0m \u001b[1;32min\u001b[0m \u001b[0mself\u001b[0m\u001b[1;33m.\u001b[0m\u001b[0m_semantic_mappings\u001b[0m\u001b[1;33m.\u001b[0m\u001b[0mitems\u001b[0m\u001b[1;33m(\u001b[0m\u001b[1;33m)\u001b[0m\u001b[1;33m:\u001b[0m\u001b[1;33m\u001b[0m\u001b[1;33m\u001b[0m\u001b[0m\n",
      "\u001b[1;32m~\\anaconda3\\envs\\Teste_ML\\lib\\site-packages\\seaborn\\_core.py\u001b[0m in \u001b[0;36massign_variables\u001b[1;34m(self, data, variables)\u001b[0m\n\u001b[0;32m    666\u001b[0m             \u001b[0mself\u001b[0m\u001b[1;33m.\u001b[0m\u001b[0minput_format\u001b[0m \u001b[1;33m=\u001b[0m \u001b[1;34m\"long\"\u001b[0m\u001b[1;33m\u001b[0m\u001b[1;33m\u001b[0m\u001b[0m\n\u001b[0;32m    667\u001b[0m             plot_data, variables = self._assign_variables_longform(\n\u001b[1;32m--> 668\u001b[1;33m                 \u001b[0mdata\u001b[0m\u001b[1;33m,\u001b[0m \u001b[1;33m**\u001b[0m\u001b[0mvariables\u001b[0m\u001b[1;33m,\u001b[0m\u001b[1;33m\u001b[0m\u001b[1;33m\u001b[0m\u001b[0m\n\u001b[0m\u001b[0;32m    669\u001b[0m             )\n\u001b[0;32m    670\u001b[0m \u001b[1;33m\u001b[0m\u001b[0m\n",
      "\u001b[1;32m~\\anaconda3\\envs\\Teste_ML\\lib\\site-packages\\seaborn\\_core.py\u001b[0m in \u001b[0;36m_assign_variables_longform\u001b[1;34m(self, data, **kwargs)\u001b[0m\n\u001b[0;32m    885\u001b[0m                     \u001b[1;31m# We don't know what this name means\u001b[0m\u001b[1;33m\u001b[0m\u001b[1;33m\u001b[0m\u001b[1;33m\u001b[0m\u001b[0m\n\u001b[0;32m    886\u001b[0m                     \u001b[0merr\u001b[0m \u001b[1;33m=\u001b[0m \u001b[1;34mf\"Could not interpret value `{val}` for parameter `{key}`\"\u001b[0m\u001b[1;33m\u001b[0m\u001b[1;33m\u001b[0m\u001b[0m\n\u001b[1;32m--> 887\u001b[1;33m                     \u001b[1;32mraise\u001b[0m \u001b[0mValueError\u001b[0m\u001b[1;33m(\u001b[0m\u001b[0merr\u001b[0m\u001b[1;33m)\u001b[0m\u001b[1;33m\u001b[0m\u001b[1;33m\u001b[0m\u001b[0m\n\u001b[0m\u001b[0;32m    888\u001b[0m \u001b[1;33m\u001b[0m\u001b[0m\n\u001b[0;32m    889\u001b[0m             \u001b[1;32melse\u001b[0m\u001b[1;33m:\u001b[0m\u001b[1;33m\u001b[0m\u001b[1;33m\u001b[0m\u001b[0m\n",
      "\u001b[1;31mValueError\u001b[0m: Could not interpret value `AreaDrenagem` for parameter `x`"
     ]
    }
   ],
   "source": [
    "sns.scatterplot(x='AreaDrenagem', y='ECI', hue='substantial', data=df)\n",
    "plt.xlim((1e0,1e5))"
   ]
  },
  {
   "cell_type": "code",
   "execution_count": null,
   "metadata": {},
   "outputs": [],
   "source": []
  },
  {
   "cell_type": "code",
   "execution_count": null,
   "metadata": {},
   "outputs": [],
   "source": [
    "df.loc[df['ECI'].isnull(),['q_mean','clim_p','clim_et']]"
   ]
  },
  {
   "cell_type": "code",
   "execution_count": null,
   "metadata": {},
   "outputs": [],
   "source": [
    "df.dropna(subset=variables+['ECI'], inplace=True)"
   ]
  },
  {
   "cell_type": "code",
   "execution_count": null,
   "metadata": {},
   "outputs": [],
   "source": []
  },
  {
   "cell_type": "code",
   "execution_count": null,
   "metadata": {},
   "outputs": [],
   "source": [
    "rfr = RandomForestClassifier(random_state=1)\n",
    "rfr.fit(X=df[variables], y=df['substantial'])"
   ]
  },
  {
   "cell_type": "code",
   "execution_count": null,
   "metadata": {},
   "outputs": [],
   "source": [
    "rfr.feature_importances_"
   ]
  },
  {
   "cell_type": "code",
   "execution_count": null,
   "metadata": {},
   "outputs": [],
   "source": [
    "plt.scatter(df['clim_pet']/df['clim_p'], (df['clim_p']-df['q_mean'])/df['clim_p'])\n",
    "plt.xlabel('PET/P')\n",
    "plt.ylabel('(P-Q)/P')"
   ]
  },
  {
   "cell_type": "code",
   "execution_count": null,
   "metadata": {},
   "outputs": [],
   "source": [
    "sns.scatterplot(x=df['clim_pet']/df['clim_p'], y=(df['clim_p']-df['q_mean'])/df['clim_p'], hue='substantial', data=df)"
   ]
  },
  {
   "cell_type": "code",
   "execution_count": null,
   "metadata": {},
   "outputs": [],
   "source": []
  }
 ],
 "metadata": {
  "kernelspec": {
   "display_name": "Teste_ML",
   "language": "python",
   "name": "teste_ml"
  },
  "language_info": {
   "codemirror_mode": {
    "name": "ipython",
    "version": 3
   },
   "file_extension": ".py",
   "mimetype": "text/x-python",
   "name": "python",
   "nbconvert_exporter": "python",
   "pygments_lexer": "ipython3",
   "version": "3.7.7"
  }
 },
 "nbformat": 4,
 "nbformat_minor": 4
}
